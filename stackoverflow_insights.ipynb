{
 "cells": [
  {
   "cell_type": "code",
   "execution_count": 1,
   "id": "2eefaf9c",
   "metadata": {},
   "outputs": [],
   "source": [
    "import pandas as pd\n",
    "import numpy as np"
   ]
  },
  {
   "cell_type": "code",
   "execution_count": 76,
   "id": "ebacedb4",
   "metadata": {},
   "outputs": [],
   "source": [
    "df = pd.read_csv('survey_results_public.csv')"
   ]
  },
  {
   "cell_type": "code",
   "execution_count": 77,
   "id": "bd451a84",
   "metadata": {},
   "outputs": [
    {
     "data": {
      "text/html": [
       "<div>\n",
       "<style scoped>\n",
       "    .dataframe tbody tr th:only-of-type {\n",
       "        vertical-align: middle;\n",
       "    }\n",
       "\n",
       "    .dataframe tbody tr th {\n",
       "        vertical-align: top;\n",
       "    }\n",
       "\n",
       "    .dataframe thead th {\n",
       "        text-align: right;\n",
       "    }\n",
       "</style>\n",
       "<table border=\"1\" class=\"dataframe\">\n",
       "  <thead>\n",
       "    <tr style=\"text-align: right;\">\n",
       "      <th></th>\n",
       "      <th>ResponseId</th>\n",
       "      <th>Q120</th>\n",
       "      <th>MainBranch</th>\n",
       "      <th>Age</th>\n",
       "      <th>Employment</th>\n",
       "      <th>RemoteWork</th>\n",
       "      <th>CodingActivities</th>\n",
       "      <th>EdLevel</th>\n",
       "      <th>LearnCode</th>\n",
       "      <th>LearnCodeOnline</th>\n",
       "      <th>...</th>\n",
       "      <th>Frequency_1</th>\n",
       "      <th>Frequency_2</th>\n",
       "      <th>Frequency_3</th>\n",
       "      <th>TimeSearching</th>\n",
       "      <th>TimeAnswering</th>\n",
       "      <th>ProfessionalTech</th>\n",
       "      <th>Industry</th>\n",
       "      <th>SurveyLength</th>\n",
       "      <th>SurveyEase</th>\n",
       "      <th>ConvertedCompYearly</th>\n",
       "    </tr>\n",
       "  </thead>\n",
       "  <tbody>\n",
       "    <tr>\n",
       "      <th>0</th>\n",
       "      <td>1</td>\n",
       "      <td>I agree</td>\n",
       "      <td>None of these</td>\n",
       "      <td>18-24 years old</td>\n",
       "      <td>NaN</td>\n",
       "      <td>NaN</td>\n",
       "      <td>NaN</td>\n",
       "      <td>NaN</td>\n",
       "      <td>NaN</td>\n",
       "      <td>NaN</td>\n",
       "      <td>...</td>\n",
       "      <td>NaN</td>\n",
       "      <td>NaN</td>\n",
       "      <td>NaN</td>\n",
       "      <td>NaN</td>\n",
       "      <td>NaN</td>\n",
       "      <td>NaN</td>\n",
       "      <td>NaN</td>\n",
       "      <td>NaN</td>\n",
       "      <td>NaN</td>\n",
       "      <td>NaN</td>\n",
       "    </tr>\n",
       "    <tr>\n",
       "      <th>1</th>\n",
       "      <td>2</td>\n",
       "      <td>I agree</td>\n",
       "      <td>I am a developer by profession</td>\n",
       "      <td>25-34 years old</td>\n",
       "      <td>Employed, full-time</td>\n",
       "      <td>Remote</td>\n",
       "      <td>Hobby;Contribute to open-source projects;Boots...</td>\n",
       "      <td>Bachelor’s degree (B.A., B.S., B.Eng., etc.)</td>\n",
       "      <td>Books / Physical media;Colleague;Friend or fam...</td>\n",
       "      <td>Formal documentation provided by the owner of ...</td>\n",
       "      <td>...</td>\n",
       "      <td>1-2 times a week</td>\n",
       "      <td>10+ times a week</td>\n",
       "      <td>Never</td>\n",
       "      <td>15-30 minutes a day</td>\n",
       "      <td>15-30 minutes a day</td>\n",
       "      <td>DevOps function;Microservices;Automated testin...</td>\n",
       "      <td>Information Services, IT, Software Development...</td>\n",
       "      <td>Appropriate in length</td>\n",
       "      <td>Easy</td>\n",
       "      <td>285000.0</td>\n",
       "    </tr>\n",
       "    <tr>\n",
       "      <th>2</th>\n",
       "      <td>3</td>\n",
       "      <td>I agree</td>\n",
       "      <td>I am a developer by profession</td>\n",
       "      <td>45-54 years old</td>\n",
       "      <td>Employed, full-time</td>\n",
       "      <td>Hybrid (some remote, some in-person)</td>\n",
       "      <td>Hobby;Professional development or self-paced l...</td>\n",
       "      <td>Bachelor’s degree (B.A., B.S., B.Eng., etc.)</td>\n",
       "      <td>Books / Physical media;Colleague;On the job tr...</td>\n",
       "      <td>Formal documentation provided by the owner of ...</td>\n",
       "      <td>...</td>\n",
       "      <td>6-10 times a week</td>\n",
       "      <td>6-10 times a week</td>\n",
       "      <td>3-5 times a week</td>\n",
       "      <td>30-60 minutes a day</td>\n",
       "      <td>30-60 minutes a day</td>\n",
       "      <td>DevOps function;Microservices;Automated testin...</td>\n",
       "      <td>Information Services, IT, Software Development...</td>\n",
       "      <td>Appropriate in length</td>\n",
       "      <td>Easy</td>\n",
       "      <td>250000.0</td>\n",
       "    </tr>\n",
       "    <tr>\n",
       "      <th>3</th>\n",
       "      <td>4</td>\n",
       "      <td>I agree</td>\n",
       "      <td>I am a developer by profession</td>\n",
       "      <td>25-34 years old</td>\n",
       "      <td>Employed, full-time</td>\n",
       "      <td>Hybrid (some remote, some in-person)</td>\n",
       "      <td>Hobby</td>\n",
       "      <td>Bachelor’s degree (B.A., B.S., B.Eng., etc.)</td>\n",
       "      <td>Colleague;Friend or family member;Other online...</td>\n",
       "      <td>Formal documentation provided by the owner of ...</td>\n",
       "      <td>...</td>\n",
       "      <td>1-2 times a week</td>\n",
       "      <td>10+ times a week</td>\n",
       "      <td>1-2 times a week</td>\n",
       "      <td>15-30 minutes a day</td>\n",
       "      <td>30-60 minutes a day</td>\n",
       "      <td>Automated testing;Continuous integration (CI) ...</td>\n",
       "      <td>NaN</td>\n",
       "      <td>Appropriate in length</td>\n",
       "      <td>Easy</td>\n",
       "      <td>156000.0</td>\n",
       "    </tr>\n",
       "    <tr>\n",
       "      <th>4</th>\n",
       "      <td>5</td>\n",
       "      <td>I agree</td>\n",
       "      <td>I am a developer by profession</td>\n",
       "      <td>25-34 years old</td>\n",
       "      <td>Employed, full-time;Independent contractor, fr...</td>\n",
       "      <td>Remote</td>\n",
       "      <td>Hobby;Contribute to open-source projects;Profe...</td>\n",
       "      <td>Bachelor’s degree (B.A., B.S., B.Eng., etc.)</td>\n",
       "      <td>Books / Physical media;Online Courses or Certi...</td>\n",
       "      <td>Formal documentation provided by the owner of ...</td>\n",
       "      <td>...</td>\n",
       "      <td>1-2 times a week</td>\n",
       "      <td>1-2 times a week</td>\n",
       "      <td>3-5 times a week</td>\n",
       "      <td>60-120 minutes a day</td>\n",
       "      <td>30-60 minutes a day</td>\n",
       "      <td>Microservices;Automated testing;Observability ...</td>\n",
       "      <td>Other</td>\n",
       "      <td>Appropriate in length</td>\n",
       "      <td>Neither easy nor difficult</td>\n",
       "      <td>23456.0</td>\n",
       "    </tr>\n",
       "  </tbody>\n",
       "</table>\n",
       "<p>5 rows × 84 columns</p>\n",
       "</div>"
      ],
      "text/plain": [
       "   ResponseId     Q120                      MainBranch              Age  \\\n",
       "0           1  I agree                   None of these  18-24 years old   \n",
       "1           2  I agree  I am a developer by profession  25-34 years old   \n",
       "2           3  I agree  I am a developer by profession  45-54 years old   \n",
       "3           4  I agree  I am a developer by profession  25-34 years old   \n",
       "4           5  I agree  I am a developer by profession  25-34 years old   \n",
       "\n",
       "                                          Employment  \\\n",
       "0                                                NaN   \n",
       "1                                Employed, full-time   \n",
       "2                                Employed, full-time   \n",
       "3                                Employed, full-time   \n",
       "4  Employed, full-time;Independent contractor, fr...   \n",
       "\n",
       "                             RemoteWork  \\\n",
       "0                                   NaN   \n",
       "1                                Remote   \n",
       "2  Hybrid (some remote, some in-person)   \n",
       "3  Hybrid (some remote, some in-person)   \n",
       "4                                Remote   \n",
       "\n",
       "                                    CodingActivities  \\\n",
       "0                                                NaN   \n",
       "1  Hobby;Contribute to open-source projects;Boots...   \n",
       "2  Hobby;Professional development or self-paced l...   \n",
       "3                                              Hobby   \n",
       "4  Hobby;Contribute to open-source projects;Profe...   \n",
       "\n",
       "                                        EdLevel  \\\n",
       "0                                           NaN   \n",
       "1  Bachelor’s degree (B.A., B.S., B.Eng., etc.)   \n",
       "2  Bachelor’s degree (B.A., B.S., B.Eng., etc.)   \n",
       "3  Bachelor’s degree (B.A., B.S., B.Eng., etc.)   \n",
       "4  Bachelor’s degree (B.A., B.S., B.Eng., etc.)   \n",
       "\n",
       "                                           LearnCode  \\\n",
       "0                                                NaN   \n",
       "1  Books / Physical media;Colleague;Friend or fam...   \n",
       "2  Books / Physical media;Colleague;On the job tr...   \n",
       "3  Colleague;Friend or family member;Other online...   \n",
       "4  Books / Physical media;Online Courses or Certi...   \n",
       "\n",
       "                                     LearnCodeOnline  ...        Frequency_1  \\\n",
       "0                                                NaN  ...                NaN   \n",
       "1  Formal documentation provided by the owner of ...  ...   1-2 times a week   \n",
       "2  Formal documentation provided by the owner of ...  ...  6-10 times a week   \n",
       "3  Formal documentation provided by the owner of ...  ...   1-2 times a week   \n",
       "4  Formal documentation provided by the owner of ...  ...   1-2 times a week   \n",
       "\n",
       "         Frequency_2       Frequency_3         TimeSearching  \\\n",
       "0                NaN               NaN                   NaN   \n",
       "1   10+ times a week             Never   15-30 minutes a day   \n",
       "2  6-10 times a week  3-5 times a week   30-60 minutes a day   \n",
       "3   10+ times a week  1-2 times a week   15-30 minutes a day   \n",
       "4   1-2 times a week  3-5 times a week  60-120 minutes a day   \n",
       "\n",
       "         TimeAnswering                                   ProfessionalTech  \\\n",
       "0                  NaN                                                NaN   \n",
       "1  15-30 minutes a day  DevOps function;Microservices;Automated testin...   \n",
       "2  30-60 minutes a day  DevOps function;Microservices;Automated testin...   \n",
       "3  30-60 minutes a day  Automated testing;Continuous integration (CI) ...   \n",
       "4  30-60 minutes a day  Microservices;Automated testing;Observability ...   \n",
       "\n",
       "                                            Industry           SurveyLength  \\\n",
       "0                                                NaN                    NaN   \n",
       "1  Information Services, IT, Software Development...  Appropriate in length   \n",
       "2  Information Services, IT, Software Development...  Appropriate in length   \n",
       "3                                                NaN  Appropriate in length   \n",
       "4                                              Other  Appropriate in length   \n",
       "\n",
       "                   SurveyEase ConvertedCompYearly  \n",
       "0                         NaN                 NaN  \n",
       "1                        Easy            285000.0  \n",
       "2                        Easy            250000.0  \n",
       "3                        Easy            156000.0  \n",
       "4  Neither easy nor difficult             23456.0  \n",
       "\n",
       "[5 rows x 84 columns]"
      ]
     },
     "execution_count": 77,
     "metadata": {},
     "output_type": "execute_result"
    }
   ],
   "source": [
    "df.head(5)"
   ]
  },
  {
   "cell_type": "code",
   "execution_count": 78,
   "id": "d4352ae4",
   "metadata": {},
   "outputs": [
    {
     "name": "stdout",
     "output_type": "stream",
     "text": [
      "<class 'pandas.core.frame.DataFrame'>\n",
      "RangeIndex: 89184 entries, 0 to 89183\n",
      "Data columns (total 84 columns):\n",
      " #   Column                               Non-Null Count  Dtype  \n",
      "---  ------                               --------------  -----  \n",
      " 0   ResponseId                           89184 non-null  int64  \n",
      " 1   Q120                                 89184 non-null  object \n",
      " 2   MainBranch                           89184 non-null  object \n",
      " 3   Age                                  89184 non-null  object \n",
      " 4   Employment                           87898 non-null  object \n",
      " 5   RemoteWork                           73810 non-null  object \n",
      " 6   CodingActivities                     73764 non-null  object \n",
      " 7   EdLevel                              87973 non-null  object \n",
      " 8   LearnCode                            87663 non-null  object \n",
      " 9   LearnCodeOnline                      70084 non-null  object \n",
      " 10  LearnCodeCoursesCert                 37076 non-null  object \n",
      " 11  YearsCode                            87435 non-null  object \n",
      " 12  YearsCodePro                         66136 non-null  object \n",
      " 13  DevType                              76872 non-null  object \n",
      " 14  OrgSize                              65043 non-null  object \n",
      " 15  PurchaseInfluence                    64964 non-null  object \n",
      " 16  TechList                             60851 non-null  object \n",
      " 17  BuyNewTool                           83009 non-null  object \n",
      " 18  Country                              87973 non-null  object \n",
      " 19  Currency                             65334 non-null  object \n",
      " 20  CompTotal                            48225 non-null  float64\n",
      " 21  LanguageHaveWorkedWith               87140 non-null  object \n",
      " 22  LanguageWantToWorkWith               80709 non-null  object \n",
      " 23  DatabaseHaveWorkedWith               73435 non-null  object \n",
      " 24  DatabaseWantToWorkWith               60911 non-null  object \n",
      " 25  PlatformHaveWorkedWith               63628 non-null  object \n",
      " 26  PlatformWantToWorkWith               51308 non-null  object \n",
      " 27  WebframeHaveWorkedWith               66938 non-null  object \n",
      " 28  WebframeWantToWorkWith               56741 non-null  object \n",
      " 29  MiscTechHaveWorkedWith               57019 non-null  object \n",
      " 30  MiscTechWantToWorkWith               46848 non-null  object \n",
      " 31  ToolsTechHaveWorkedWith              77884 non-null  object \n",
      " 32  ToolsTechWantToWorkWith              68315 non-null  object \n",
      " 33  NEWCollabToolsHaveWorkedWith         85864 non-null  object \n",
      " 34  NEWCollabToolsWantToWorkWith         76649 non-null  object \n",
      " 35  OpSysPersonal use                    86557 non-null  object \n",
      " 36  OpSysProfessional use                78587 non-null  object \n",
      " 37  OfficeStackAsyncHaveWorkedWith       69090 non-null  object \n",
      " 38  OfficeStackAsyncWantToWorkWith       53743 non-null  object \n",
      " 39  OfficeStackSyncHaveWorkedWith        83439 non-null  object \n",
      " 40  OfficeStackSyncWantToWorkWith        69776 non-null  object \n",
      " 41  AISearchHaveWorkedWith               56328 non-null  object \n",
      " 42  AISearchWantToWorkWith               46150 non-null  object \n",
      " 43  AIDevHaveWorkedWith                  25904 non-null  object \n",
      " 44  AIDevWantToWorkWith                  19587 non-null  object \n",
      " 45  NEWSOSites                           87973 non-null  object \n",
      " 46  SOVisitFreq                          87140 non-null  object \n",
      " 47  SOAccount                            87852 non-null  object \n",
      " 48  SOPartFreq                           66061 non-null  object \n",
      " 49  SOComm                               87692 non-null  object \n",
      " 50  SOAI                                 47858 non-null  object \n",
      " 51  AISelect                             87973 non-null  object \n",
      " 52  AISent                               61501 non-null  object \n",
      " 53  AIAcc                                38594 non-null  object \n",
      " 54  AIBen                                61396 non-null  object \n",
      " 55  AIToolInterested in Using            32783 non-null  object \n",
      " 56  AIToolCurrently Using                36137 non-null  object \n",
      " 57  AIToolNot interested in Using        21069 non-null  object \n",
      " 58  AINextVery different                 12661 non-null  object \n",
      " 59  AINextNeither different nor similar  6599 non-null   object \n",
      " 60  AINextSomewhat similar               6238 non-null   object \n",
      " 61  AINextVery similar                   2621 non-null   object \n",
      " 62  AINextSomewhat different             23303 non-null  object \n",
      " 63  TBranch                              65768 non-null  object \n",
      " 64  ICorPM                               43668 non-null  object \n",
      " 65  WorkExp                              43579 non-null  float64\n",
      " 66  Knowledge_1                          42535 non-null  object \n",
      " 67  Knowledge_2                          41670 non-null  object \n",
      " 68  Knowledge_3                          41798 non-null  object \n",
      " 69  Knowledge_4                          41684 non-null  object \n",
      " 70  Knowledge_5                          41527 non-null  object \n",
      " 71  Knowledge_6                          41520 non-null  object \n",
      " 72  Knowledge_7                          41467 non-null  object \n",
      " 73  Knowledge_8                          41404 non-null  object \n",
      " 74  Frequency_1                          41916 non-null  object \n",
      " 75  Frequency_2                          41925 non-null  object \n",
      " 76  Frequency_3                          41054 non-null  object \n",
      " 77  TimeSearching                        42778 non-null  object \n",
      " 78  TimeAnswering                        42629 non-null  object \n",
      " 79  ProfessionalTech                     41783 non-null  object \n",
      " 80  Industry                             36774 non-null  object \n",
      " 81  SurveyLength                         86485 non-null  object \n",
      " 82  SurveyEase                           86554 non-null  object \n",
      " 83  ConvertedCompYearly                  48019 non-null  float64\n",
      "dtypes: float64(3), int64(1), object(80)\n",
      "memory usage: 57.2+ MB\n"
     ]
    }
   ],
   "source": [
    "df.info()"
   ]
  },
  {
   "cell_type": "code",
   "execution_count": 79,
   "id": "6a84f6dd",
   "metadata": {},
   "outputs": [
    {
     "data": {
      "text/plain": [
       "ResponseId             89184\n",
       "Q120                   89184\n",
       "MainBranch             89184\n",
       "Age                    89184\n",
       "Employment             87898\n",
       "                       ...  \n",
       "ProfessionalTech       41783\n",
       "Industry               36774\n",
       "SurveyLength           86485\n",
       "SurveyEase             86554\n",
       "ConvertedCompYearly    48019\n",
       "Length: 84, dtype: int64"
      ]
     },
     "execution_count": 79,
     "metadata": {},
     "output_type": "execute_result"
    }
   ],
   "source": [
    "df.count()"
   ]
  },
  {
   "cell_type": "markdown",
   "id": "f6758d27",
   "metadata": {},
   "source": [
    "###### 1. MainBranch"
   ]
  },
  {
   "cell_type": "code",
   "execution_count": 80,
   "id": "abed3f9e",
   "metadata": {},
   "outputs": [
    {
     "data": {
      "text/plain": [
       "array(['None of these', 'I am a developer by profession',\n",
       "       'I am not primarily a developer, but I write code sometimes as part of my work/studies',\n",
       "       'I code primarily as a hobby', 'I am learning to code',\n",
       "       'I used to be a developer by profession, but no longer am'],\n",
       "      dtype=object)"
      ]
     },
     "execution_count": 80,
     "metadata": {},
     "output_type": "execute_result"
    }
   ],
   "source": [
    "df['MainBranch'].unique()"
   ]
  },
  {
   "cell_type": "code",
   "execution_count": 81,
   "id": "b5d4f5f1",
   "metadata": {},
   "outputs": [],
   "source": [
    "df['MainBranch'].replace({\n",
    "    'None of these': 'others',\n",
    "    'I am a developer by profession':'Professional coder',\n",
    "    'I am not primarily a developer, but I write code sometimes as part of my work/studies':'Partial coder',\n",
    "    'I code primarily as a hobby':'Hobbyist',\n",
    "    'I am learning to code':'Learning',\n",
    "    'I used to be a developer by profession, but no longer am':'Former coder'\n",
    "}, inplace=True)"
   ]
  },
  {
   "cell_type": "code",
   "execution_count": 82,
   "id": "6e6fb2b2",
   "metadata": {},
   "outputs": [],
   "source": [
    "df = df[df['MainBranch'] != 'others']"
   ]
  },
  {
   "cell_type": "code",
   "execution_count": 83,
   "id": "c1dacce1",
   "metadata": {},
   "outputs": [
    {
     "data": {
      "text/plain": [
       "array(['Professional coder', 'Partial coder', 'Hobbyist', 'Learning',\n",
       "       'Former coder'], dtype=object)"
      ]
     },
     "execution_count": 83,
     "metadata": {},
     "output_type": "execute_result"
    }
   ],
   "source": [
    "df['MainBranch'].unique()"
   ]
  },
  {
   "cell_type": "code",
   "execution_count": 84,
   "id": "20ee13e8",
   "metadata": {},
   "outputs": [
    {
     "data": {
      "text/plain": [
       "MainBranch\n",
       "Professional coder    67237\n",
       "Partial coder          8954\n",
       "Learning               4961\n",
       "Hobbyist               4960\n",
       "Former coder           1861\n",
       "Name: count, dtype: int64"
      ]
     },
     "execution_count": 84,
     "metadata": {},
     "output_type": "execute_result"
    }
   ],
   "source": [
    "df['MainBranch'].value_counts()"
   ]
  },
  {
   "cell_type": "code",
   "execution_count": 85,
   "id": "d61a91b0",
   "metadata": {},
   "outputs": [
    {
     "data": {
      "text/plain": [
       "0"
      ]
     },
     "execution_count": 85,
     "metadata": {},
     "output_type": "execute_result"
    }
   ],
   "source": [
    "df['MainBranch'].isna().sum()"
   ]
  },
  {
   "cell_type": "markdown",
   "id": "e55a4a42",
   "metadata": {},
   "source": [
    "###### 2. Age"
   ]
  },
  {
   "cell_type": "code",
   "execution_count": 86,
   "id": "314e91ac",
   "metadata": {},
   "outputs": [],
   "source": [
    "df['Age'].replace({\n",
    "    '18-24 years old':'18-24',\n",
    "    '25-34 years old':'25-34',\n",
    "    '45-54 years old':'45-54',\n",
    "    '35-44 years old':'35-44',\n",
    "    'Under 18 years old':'under 18',\n",
    "    '55-64 years old':'55-64',\n",
    "    '65 years or older':'above 65',\n",
    "}, inplace=True)"
   ]
  },
  {
   "cell_type": "code",
   "execution_count": 87,
   "id": "208f0dcf",
   "metadata": {},
   "outputs": [
    {
     "data": {
      "text/plain": [
       "array(['25-34', '45-54', '35-44', 'under 18', '55-64', '18-24',\n",
       "       'above 65', 'Prefer not to say'], dtype=object)"
      ]
     },
     "execution_count": 87,
     "metadata": {},
     "output_type": "execute_result"
    }
   ],
   "source": [
    "df['Age'].unique()"
   ]
  },
  {
   "cell_type": "code",
   "execution_count": 88,
   "id": "15ae2e60",
   "metadata": {},
   "outputs": [
    {
     "data": {
      "text/plain": [
       "87973"
      ]
     },
     "execution_count": 88,
     "metadata": {},
     "output_type": "execute_result"
    }
   ],
   "source": [
    "df['Age'].count()"
   ]
  },
  {
   "cell_type": "code",
   "execution_count": 89,
   "id": "77ffe2c1",
   "metadata": {},
   "outputs": [
    {
     "data": {
      "text/plain": [
       "Age\n",
       "25-34                32963\n",
       "35-44                20314\n",
       "18-24                17672\n",
       "45-54                 8209\n",
       "under 18              4029\n",
       "55-64                 3327\n",
       "above 65              1130\n",
       "Prefer not to say      329\n",
       "Name: count, dtype: int64"
      ]
     },
     "execution_count": 89,
     "metadata": {},
     "output_type": "execute_result"
    }
   ],
   "source": [
    "df['Age'].value_counts()"
   ]
  },
  {
   "cell_type": "code",
   "execution_count": 90,
   "id": "4e47eee2",
   "metadata": {},
   "outputs": [
    {
     "data": {
      "text/plain": [
       "0"
      ]
     },
     "execution_count": 90,
     "metadata": {},
     "output_type": "execute_result"
    }
   ],
   "source": [
    "df['Age'].isna().sum()"
   ]
  },
  {
   "cell_type": "markdown",
   "id": "1ec1f0d4",
   "metadata": {},
   "source": [
    "###### 3. Employment"
   ]
  },
  {
   "cell_type": "code",
   "execution_count": 91,
   "id": "2e65c808",
   "metadata": {},
   "outputs": [
    {
     "data": {
      "text/plain": [
       "array(['Employed, full-time',\n",
       "       'Employed, full-time;Independent contractor, freelancer, or self-employed',\n",
       "       'Not employed, but looking for work',\n",
       "       'Independent contractor, freelancer, or self-employed',\n",
       "       'Student, full-time',\n",
       "       'Independent contractor, freelancer, or self-employed;Employed, part-time;Student, part-time',\n",
       "       'Not employed, but looking for work;Student, full-time',\n",
       "       'Employed, part-time;Student, part-time', 'Employed, part-time',\n",
       "       'Student, full-time;Employed, part-time', 'I prefer not to say',\n",
       "       'Employed, full-time;Independent contractor, freelancer, or self-employed;Employed, part-time',\n",
       "       'Employed, full-time;Student, part-time',\n",
       "       'Not employed, but looking for work;Employed, part-time',\n",
       "       'Employed, full-time;Independent contractor, freelancer, or self-employed;Student, part-time',\n",
       "       'Retired', 'Employed, full-time;Student, full-time',\n",
       "       'Student, full-time;Student, part-time',\n",
       "       'Independent contractor, freelancer, or self-employed;Student, full-time',\n",
       "       'Not employed, and not looking for work', 'Student, part-time',\n",
       "       'Student, full-time;Not employed, and not looking for work',\n",
       "       'Employed, full-time;Independent contractor, freelancer, or self-employed;Not employed, but looking for work',\n",
       "       'Employed, full-time;Employed, part-time',\n",
       "       'Employed, full-time;Independent contractor, freelancer, or self-employed;Not employed, but looking for work;Not employed, and not looking for work',\n",
       "       'Independent contractor, freelancer, or self-employed;Student, part-time',\n",
       "       'Independent contractor, freelancer, or self-employed;Not employed, but looking for work;Student, part-time',\n",
       "       nan,\n",
       "       'Independent contractor, freelancer, or self-employed;Not employed, and not looking for work',\n",
       "       'Student, full-time;Employed, part-time;Not employed, and not looking for work',\n",
       "       'Not employed, but looking for work;Student, part-time',\n",
       "       'Independent contractor, freelancer, or self-employed;Not employed, but looking for work',\n",
       "       'Independent contractor, freelancer, or self-employed;Student, full-time;Employed, part-time',\n",
       "       'Independent contractor, freelancer, or self-employed;Not employed, but looking for work;Student, full-time',\n",
       "       'Independent contractor, freelancer, or self-employed;Employed, part-time',\n",
       "       'Employed, full-time;Employed, part-time;Student, part-time',\n",
       "       'Not employed, but looking for work;Student, full-time;Student, part-time',\n",
       "       'Independent contractor, freelancer, or self-employed;Not employed, but looking for work;Employed, part-time',\n",
       "       'Student, part-time;Not employed, and not looking for work',\n",
       "       'Employed, full-time;Independent contractor, freelancer, or self-employed;Student, full-time',\n",
       "       'Employed, full-time;Independent contractor, freelancer, or self-employed;Employed, part-time;Student, part-time',\n",
       "       'Independent contractor, freelancer, or self-employed;Employed, part-time;Retired',\n",
       "       'Not employed, but looking for work;Not employed, and not looking for work',\n",
       "       'Retired;Not employed, and not looking for work',\n",
       "       'Independent contractor, freelancer, or self-employed;Retired',\n",
       "       'Independent contractor, freelancer, or self-employed;Not employed, but looking for work;Not employed, and not looking for work',\n",
       "       'Employed, full-time;Student, full-time;Employed, part-time',\n",
       "       'Independent contractor, freelancer, or self-employed;Student, full-time;Not employed, and not looking for work',\n",
       "       'Employed, full-time;Not employed, but looking for work',\n",
       "       'Not employed, but looking for work;Employed, part-time;Student, part-time',\n",
       "       'Student, full-time;Employed, part-time;Student, part-time',\n",
       "       'Independent contractor, freelancer, or self-employed;Student, part-time;Not employed, and not looking for work',\n",
       "       'Independent contractor, freelancer, or self-employed;Student, full-time;Employed, part-time;Student, part-time',\n",
       "       'Employed, full-time;Independent contractor, freelancer, or self-employed;Student, full-time;Retired',\n",
       "       'Employed, full-time;Independent contractor, freelancer, or self-employed;Not employed, but looking for work;Student, full-time;Employed, part-time;Student, part-time',\n",
       "       'Employed, full-time;Independent contractor, freelancer, or self-employed;Student, full-time;Student, part-time',\n",
       "       'Employed, full-time;Not employed, and not looking for work',\n",
       "       'Employed, full-time;Independent contractor, freelancer, or self-employed;Student, full-time;Employed, part-time;Student, part-time',\n",
       "       'Not employed, but looking for work;Student, full-time;Not employed, and not looking for work',\n",
       "       'Employed, full-time;Independent contractor, freelancer, or self-employed;Not employed, but looking for work;Employed, part-time',\n",
       "       'Employed, full-time;Not employed, but looking for work;Student, full-time;Student, part-time',\n",
       "       'Employed, full-time;Independent contractor, freelancer, or self-employed;Student, full-time;Employed, part-time',\n",
       "       'Not employed, but looking for work;Student, full-time;Employed, part-time',\n",
       "       'Employed, full-time;Not employed, but looking for work;Student, part-time',\n",
       "       'Independent contractor, freelancer, or self-employed;Student, part-time;Retired',\n",
       "       'Employed, part-time;Student, part-time;Retired',\n",
       "       'Employed, full-time;Retired', 'Employed, part-time;Retired',\n",
       "       'Employed, full-time;Not employed, but looking for work;Student, full-time',\n",
       "       'Employed, full-time;Independent contractor, freelancer, or self-employed;Not employed, but looking for work;Student, full-time;Employed, part-time;Student, part-time;Not employed, and not looking for work',\n",
       "       'Employed, full-time;Independent contractor, freelancer, or self-employed;Not employed, and not looking for work',\n",
       "       'Independent contractor, freelancer, or self-employed;Not employed, but looking for work;Retired',\n",
       "       'Independent contractor, freelancer, or self-employed;Not employed, but looking for work;Employed, part-time;Student, part-time',\n",
       "       'Employed, full-time;Independent contractor, freelancer, or self-employed;Student, full-time;Not employed, and not looking for work',\n",
       "       'Independent contractor, freelancer, or self-employed;Not employed, but looking for work;Student, full-time;Employed, part-time',\n",
       "       'Independent contractor, freelancer, or self-employed;Not employed, but looking for work;Employed, part-time;Not employed, and not looking for work',\n",
       "       'Student, full-time;Retired',\n",
       "       'Employed, full-time;Student, full-time;Employed, part-time;Student, part-time',\n",
       "       'Employed, full-time;Independent contractor, freelancer, or self-employed;Retired',\n",
       "       'Not employed, but looking for work;Student, full-time;Student, part-time;Not employed, and not looking for work',\n",
       "       'Student, full-time;Student, part-time;Not employed, and not looking for work',\n",
       "       'Not employed, but looking for work;Retired',\n",
       "       'Employed, full-time;Student, full-time;Retired',\n",
       "       'Independent contractor, freelancer, or self-employed;Not employed, but looking for work;Student, part-time;Retired',\n",
       "       'Independent contractor, freelancer, or self-employed;Not employed, but looking for work;Student, full-time;Not employed, and not looking for work',\n",
       "       'Independent contractor, freelancer, or self-employed;Retired;Not employed, and not looking for work',\n",
       "       'Employed, full-time;Independent contractor, freelancer, or self-employed;Not employed, but looking for work;Student, full-time;Student, part-time',\n",
       "       'Independent contractor, freelancer, or self-employed;Student, full-time;Student, part-time',\n",
       "       'Employed, full-time;Independent contractor, freelancer, or self-employed;Not employed, but looking for work;Employed, part-time;Not employed, and not looking for work',\n",
       "       'Independent contractor, freelancer, or self-employed;Student, full-time;Retired',\n",
       "       'Employed, full-time;Independent contractor, freelancer, or self-employed;Not employed, but looking for work;Student, full-time;Employed, part-time;Student, part-time;Retired;Not employed, and not looking for work',\n",
       "       'Independent contractor, freelancer, or self-employed;Not employed, but looking for work;Student, full-time;Student, part-time',\n",
       "       'Employed, part-time;Not employed, and not looking for work',\n",
       "       'Employed, full-time;Independent contractor, freelancer, or self-employed;Not employed, but looking for work;Retired',\n",
       "       'Employed, full-time;Student, part-time;Retired',\n",
       "       'Employed, full-time;Not employed, but looking for work;Employed, part-time',\n",
       "       'Not employed, but looking for work;Student, part-time;Not employed, and not looking for work',\n",
       "       'Independent contractor, freelancer, or self-employed;Not employed, but looking for work;Student, full-time;Student, part-time;Not employed, and not looking for work',\n",
       "       'Employed, full-time;Student, full-time;Student, part-time',\n",
       "       'Independent contractor, freelancer, or self-employed;Student, full-time;Employed, part-time;Not employed, and not looking for work',\n",
       "       'Employed, full-time;Student, full-time;Not employed, and not looking for work',\n",
       "       'Not employed, but looking for work;Student, full-time;Employed, part-time;Student, part-time',\n",
       "       'Independent contractor, freelancer, or self-employed;Student, full-time;Student, part-time;Not employed, and not looking for work',\n",
       "       'Employed, full-time;Student, full-time;Employed, part-time;Student, part-time;Not employed, and not looking for work',\n",
       "       'Independent contractor, freelancer, or self-employed;Not employed, but looking for work;Employed, part-time;Retired',\n",
       "       'Employed, full-time;Not employed, but looking for work;Student, full-time;Employed, part-time;Student, part-time',\n",
       "       'Employed, full-time;Not employed, but looking for work;Employed, part-time;Student, part-time'],\n",
       "      dtype=object)"
      ]
     },
     "execution_count": 91,
     "metadata": {},
     "output_type": "execute_result"
    }
   ],
   "source": [
    "df['Employment'].unique()"
   ]
  },
  {
   "cell_type": "code",
   "execution_count": 92,
   "id": "ce026c9f",
   "metadata": {},
   "outputs": [
    {
     "data": {
      "text/plain": [
       "87898"
      ]
     },
     "execution_count": 92,
     "metadata": {},
     "output_type": "execute_result"
    }
   ],
   "source": [
    "df['Employment'].count()"
   ]
  },
  {
   "cell_type": "code",
   "execution_count": 93,
   "id": "ab7babbf",
   "metadata": {},
   "outputs": [],
   "source": [
    "new = df['Employment'].str.split(';', n = 1, expand=True)"
   ]
  },
  {
   "cell_type": "code",
   "execution_count": 94,
   "id": "3556f86d",
   "metadata": {},
   "outputs": [],
   "source": [
    "new1 = new[0].str.split(',', n = 1, expand=True)"
   ]
  },
  {
   "cell_type": "code",
   "execution_count": 95,
   "id": "773e0c5a",
   "metadata": {},
   "outputs": [],
   "source": [
    "df = df.drop('Employment', axis = 1)"
   ]
  },
  {
   "cell_type": "code",
   "execution_count": 96,
   "id": "e1cdb59c",
   "metadata": {},
   "outputs": [],
   "source": [
    "df['Employment'] = new1[0]"
   ]
  },
  {
   "cell_type": "code",
   "execution_count": 97,
   "id": "9f926b9b",
   "metadata": {},
   "outputs": [
    {
     "data": {
      "text/plain": [
       "87898"
      ]
     },
     "execution_count": 97,
     "metadata": {},
     "output_type": "execute_result"
    }
   ],
   "source": [
    "df['Employment'].count()"
   ]
  },
  {
   "cell_type": "code",
   "execution_count": 98,
   "id": "80a2fd98",
   "metadata": {},
   "outputs": [
    {
     "data": {
      "text/plain": [
       "array(['Employed', 'Not employed', 'Independent contractor', 'Student',\n",
       "       'I prefer not to say', 'Retired', nan], dtype=object)"
      ]
     },
     "execution_count": 98,
     "metadata": {},
     "output_type": "execute_result"
    }
   ],
   "source": [
    "df['Employment'].unique()"
   ]
  },
  {
   "cell_type": "code",
   "execution_count": 99,
   "id": "3332b7c9",
   "metadata": {},
   "outputs": [],
   "source": [
    "df = df.dropna(subset = 'Employment')"
   ]
  },
  {
   "cell_type": "code",
   "execution_count": 100,
   "id": "699ec6da",
   "metadata": {},
   "outputs": [
    {
     "data": {
      "text/plain": [
       "array(['Employed', 'Not employed', 'Independent contractor', 'Student',\n",
       "       'I prefer not to say', 'Retired'], dtype=object)"
      ]
     },
     "execution_count": 100,
     "metadata": {},
     "output_type": "execute_result"
    }
   ],
   "source": [
    "df['Employment'].unique()"
   ]
  },
  {
   "cell_type": "code",
   "execution_count": 101,
   "id": "326c21ab",
   "metadata": {},
   "outputs": [
    {
     "data": {
      "text/plain": [
       "Employment\n",
       "Employed                  63263\n",
       "Student                    9968\n",
       "Independent contractor     9137\n",
       "Not employed               4387\n",
       "Retired                     594\n",
       "I prefer not to say         549\n",
       "Name: count, dtype: int64"
      ]
     },
     "execution_count": 101,
     "metadata": {},
     "output_type": "execute_result"
    }
   ],
   "source": [
    "df['Employment'].value_counts()"
   ]
  },
  {
   "cell_type": "markdown",
   "id": "551e6ec6",
   "metadata": {},
   "source": [
    "###### 4. years code"
   ]
  },
  {
   "cell_type": "code",
   "execution_count": 102,
   "id": "4a7c7003",
   "metadata": {},
   "outputs": [
    {
     "data": {
      "text/plain": [
       "dtype('O')"
      ]
     },
     "execution_count": 102,
     "metadata": {},
     "output_type": "execute_result"
    }
   ],
   "source": [
    "df['YearsCode'].dtypes"
   ]
  },
  {
   "cell_type": "code",
   "execution_count": 103,
   "id": "d7aee2b5",
   "metadata": {},
   "outputs": [
    {
     "data": {
      "text/plain": [
       "array(['18', '27', '12', '6', '21', '4', '5', '20', '14', '10', '15',\n",
       "       '11', '3', '24', '8', '13', 'Less than 1 year', '16', '33', '22',\n",
       "       '30', '32', '7', '35', '28', '40', '17', nan, '29', '19',\n",
       "       'More than 50 years', '9', '38', '26', '34', '25', '2', '45', '23',\n",
       "       '31', '43', '1', '48', '41', '50', '39', '42', '37', '36', '44',\n",
       "       '46', '49', '47'], dtype=object)"
      ]
     },
     "execution_count": 103,
     "metadata": {},
     "output_type": "execute_result"
    }
   ],
   "source": [
    "df['YearsCode'].unique()"
   ]
  },
  {
   "cell_type": "code",
   "execution_count": 104,
   "id": "16c256f9",
   "metadata": {},
   "outputs": [],
   "source": [
    "df[\"YearsCode\"].replace({\n",
    "    'Less than 1 year':0,\n",
    "    'More than 50 years': 50\n",
    "}, inplace = True)"
   ]
  },
  {
   "cell_type": "code",
   "execution_count": 105,
   "id": "d94a93ca",
   "metadata": {},
   "outputs": [
    {
     "data": {
      "text/plain": [
       "87375"
      ]
     },
     "execution_count": 105,
     "metadata": {},
     "output_type": "execute_result"
    }
   ],
   "source": [
    "df['YearsCode'].count()"
   ]
  },
  {
   "cell_type": "code",
   "execution_count": 106,
   "id": "4f8f4ed6",
   "metadata": {},
   "outputs": [
    {
     "data": {
      "text/plain": [
       "Employment    87898\n",
       "YearsCode     87375\n",
       "dtype: int64"
      ]
     },
     "execution_count": 106,
     "metadata": {},
     "output_type": "execute_result"
    }
   ],
   "source": [
    "df[['Employment', 'YearsCode']].count()"
   ]
  },
  {
   "cell_type": "code",
   "execution_count": 107,
   "id": "7817837b",
   "metadata": {},
   "outputs": [
    {
     "data": {
      "text/plain": [
       "523"
      ]
     },
     "execution_count": 107,
     "metadata": {},
     "output_type": "execute_result"
    }
   ],
   "source": [
    "df['YearsCode'].isna().sum()"
   ]
  },
  {
   "cell_type": "code",
   "execution_count": 108,
   "id": "614683be",
   "metadata": {},
   "outputs": [],
   "source": [
    "df['YearsCode'] = pd.to_numeric(df['YearsCode'], errors='coerce')"
   ]
  },
  {
   "cell_type": "code",
   "execution_count": 109,
   "id": "1272e46c",
   "metadata": {},
   "outputs": [],
   "source": [
    "student_mean = df[df['Employment'] == 'Student']['YearsCode'].mean()\n",
    "df.loc[df['Employment'] == 'Student', 'YearsCode'] = df.loc[df['Employment'] == 'Student', 'YearsCode'].fillna(student_mean)"
   ]
  },
  {
   "cell_type": "code",
   "execution_count": 110,
   "id": "a673084a",
   "metadata": {},
   "outputs": [],
   "source": [
    "employed_mean = df[df['Employment'] == 'Employed']['YearsCode'].mean()\n",
    "df.loc[df['Employment'] == 'Employed', 'YearsCode'] = df.loc[df['Employment'] == 'Employed', 'YearsCode'].fillna(employed_mean)"
   ]
  },
  {
   "cell_type": "code",
   "execution_count": 111,
   "id": "b15c2c93",
   "metadata": {},
   "outputs": [],
   "source": [
    "freelancer_mean = df[df['Employment'] == 'Independent contractor']['YearsCode'].mean()\n",
    "df.loc[df['Employment'] == 'Independent contractor', 'YearsCode'] = df.loc[df['Employment'] == 'Independent contractor', 'YearsCode'].fillna(freelancer_mean)"
   ]
  },
  {
   "cell_type": "code",
   "execution_count": 112,
   "id": "bc9d81cc",
   "metadata": {},
   "outputs": [],
   "source": [
    "unemployed_mean = df[df['Employment'] == 'Not employed']['YearsCode'].mean()\n",
    "df.loc[df['Employment'] == 'Not employed', 'YearsCode'] = df.loc[df['Employment'] == 'Not employed', 'YearsCode'].fillna(unemployed_mean)"
   ]
  },
  {
   "cell_type": "code",
   "execution_count": 113,
   "id": "7f407ae7",
   "metadata": {},
   "outputs": [],
   "source": [
    "retired_mean = df[df['Employment'] == 'Retired']['YearsCode'].mean()\n",
    "df.loc[df['Employment'] == 'Retired', 'YearsCode'] = df.loc[df['Employment'] == 'Retired', 'YearsCode'].fillna(retired_mean)"
   ]
  },
  {
   "cell_type": "code",
   "execution_count": 114,
   "id": "573a0ae5",
   "metadata": {},
   "outputs": [],
   "source": [
    "notSaid_mean = df[df['Employment'] == 'I prefer not to say']['YearsCode'].mean()\n",
    "df.loc[df['Employment'] == 'I prefer not to say', 'YearsCode'] = df.loc[df['Employment'] == 'I prefer not to say', 'YearsCode'].fillna(notSaid_mean)"
   ]
  },
  {
   "cell_type": "code",
   "execution_count": 115,
   "id": "d4b93e70",
   "metadata": {},
   "outputs": [],
   "source": [
    "df['YearsCode'] = pd.to_numeric(df['YearsCode']).astype('int64')"
   ]
  },
  {
   "cell_type": "code",
   "execution_count": 116,
   "id": "cfd1efbe",
   "metadata": {},
   "outputs": [
    {
     "data": {
      "text/plain": [
       "0"
      ]
     },
     "execution_count": 116,
     "metadata": {},
     "output_type": "execute_result"
    }
   ],
   "source": [
    "df['YearsCode'].isna().sum()"
   ]
  },
  {
   "cell_type": "markdown",
   "id": "c0f40ebf",
   "metadata": {},
   "source": [
    "###### 4. remoteWork"
   ]
  },
  {
   "cell_type": "code",
   "execution_count": 117,
   "id": "d887c1e5",
   "metadata": {},
   "outputs": [
    {
     "data": {
      "text/plain": [
       "array(['Remote', 'Hybrid (some remote, some in-person)', nan, 'In-person'],\n",
       "      dtype=object)"
      ]
     },
     "execution_count": 117,
     "metadata": {},
     "output_type": "execute_result"
    }
   ],
   "source": [
    "df['RemoteWork'].unique()"
   ]
  },
  {
   "cell_type": "code",
   "execution_count": 118,
   "id": "a5ddef8c",
   "metadata": {},
   "outputs": [],
   "source": [
    "df['RemoteWork'].replace({\n",
    "    'Hybrid (some remote, some in-person)' : 'Hybrid'\n",
    "}, inplace = True)"
   ]
  },
  {
   "cell_type": "code",
   "execution_count": 119,
   "id": "77081ea4",
   "metadata": {},
   "outputs": [
    {
     "data": {
      "text/plain": [
       "RemoteWork\n",
       "Hybrid       31131\n",
       "Remote       30566\n",
       "In-person    12113\n",
       "Name: count, dtype: int64"
      ]
     },
     "execution_count": 119,
     "metadata": {},
     "output_type": "execute_result"
    }
   ],
   "source": [
    "df['RemoteWork'].value_counts()"
   ]
  },
  {
   "cell_type": "code",
   "execution_count": 120,
   "id": "9822880a",
   "metadata": {},
   "outputs": [
    {
     "data": {
      "text/plain": [
       "RemoteWork    14088\n",
       "dtype: int64"
      ]
     },
     "execution_count": 120,
     "metadata": {},
     "output_type": "execute_result"
    }
   ],
   "source": [
    "df[['RemoteWork']].isna().sum()"
   ]
  },
  {
   "cell_type": "code",
   "execution_count": 121,
   "id": "4c903211",
   "metadata": {},
   "outputs": [],
   "source": [
    "df.loc[df['Employment'] == 'Independent contractor', 'RemoteWork'] = df.loc[df['Employment'] == 'Independent contractor', 'RemoteWork'].fillna('Hybrid')"
   ]
  },
  {
   "cell_type": "code",
   "execution_count": 122,
   "id": "32ed45d5",
   "metadata": {},
   "outputs": [],
   "source": [
    "df['RemoteWork'].fillna('Not Applicable', inplace = True)"
   ]
  },
  {
   "cell_type": "code",
   "execution_count": 123,
   "id": "a9010518",
   "metadata": {},
   "outputs": [
    {
     "data": {
      "text/plain": [
       "array(['Remote', 'Hybrid', 'Not Applicable', 'In-person'], dtype=object)"
      ]
     },
     "execution_count": 123,
     "metadata": {},
     "output_type": "execute_result"
    }
   ],
   "source": [
    "df['RemoteWork'].unique()"
   ]
  },
  {
   "cell_type": "code",
   "execution_count": 124,
   "id": "38d926ef",
   "metadata": {},
   "outputs": [
    {
     "data": {
      "text/plain": [
       "RemoteWork\n",
       "Hybrid            31150\n",
       "Remote            30566\n",
       "Not Applicable    14069\n",
       "In-person         12113\n",
       "Name: count, dtype: int64"
      ]
     },
     "execution_count": 124,
     "metadata": {},
     "output_type": "execute_result"
    }
   ],
   "source": [
    "df['RemoteWork'].value_counts()"
   ]
  },
  {
   "cell_type": "code",
   "execution_count": 125,
   "id": "87f8e906",
   "metadata": {},
   "outputs": [
    {
     "data": {
      "text/plain": [
       "RemoteWork    0\n",
       "dtype: int64"
      ]
     },
     "execution_count": 125,
     "metadata": {},
     "output_type": "execute_result"
    }
   ],
   "source": [
    "df[['RemoteWork']].isna().sum()"
   ]
  },
  {
   "cell_type": "markdown",
   "id": "b937d1b5",
   "metadata": {},
   "source": [
    "###### 5. EdLevel"
   ]
  },
  {
   "cell_type": "code",
   "execution_count": 126,
   "id": "a53ab6d8",
   "metadata": {},
   "outputs": [
    {
     "data": {
      "text/plain": [
       "array(['Bachelor’s degree (B.A., B.S., B.Eng., etc.)',\n",
       "       'Some college/university study without earning a degree',\n",
       "       'Master’s degree (M.A., M.S., M.Eng., MBA, etc.)',\n",
       "       'Primary/elementary school',\n",
       "       'Professional degree (JD, MD, Ph.D, Ed.D, etc.)',\n",
       "       'Associate degree (A.A., A.S., etc.)',\n",
       "       'Secondary school (e.g. American high school, German Realschule or Gymnasium, etc.)',\n",
       "       'Something else'], dtype=object)"
      ]
     },
     "execution_count": 126,
     "metadata": {},
     "output_type": "execute_result"
    }
   ],
   "source": [
    "df['EdLevel'].unique()"
   ]
  },
  {
   "cell_type": "code",
   "execution_count": 127,
   "id": "8b8b5fb9",
   "metadata": {},
   "outputs": [],
   "source": [
    "df['EdLevel'].replace({\n",
    "    \"Bachelor’s degree (B.A., B.S., B.Eng., etc.)\":\"Bachelor’s degree\",\n",
    "    \"Some college/university study without earning a degree\":'Without degree',\n",
    "    \"Master’s degree (M.A., M.S., M.Eng., MBA, etc.)\":\"Master’s degree\",\n",
    "    \"Professional degree (JD, MD, Ph.D, Ed.D, etc.)\":\"Professional degree\",\n",
    "    \"Associate degree (A.A., A.S., etc.)\":\"Associate degree\",\n",
    "    \"Secondary school (e.g. American high school, German Realschule or Gymnasium, etc.)\":\"Secondary school\"\n",
    "}, inplace=True)"
   ]
  },
  {
   "cell_type": "code",
   "execution_count": 128,
   "id": "721e2d7b",
   "metadata": {},
   "outputs": [
    {
     "data": {
      "text/plain": [
       "EdLevel\n",
       "Bachelor’s degree            36689\n",
       "Master’s degree              20536\n",
       "Without degree               11748\n",
       "Secondary school              8871\n",
       "Professional degree           3883\n",
       "Associate degree              2805\n",
       "Primary/elementary school     1900\n",
       "Something else                1466\n",
       "Name: count, dtype: int64"
      ]
     },
     "execution_count": 128,
     "metadata": {},
     "output_type": "execute_result"
    }
   ],
   "source": [
    "df['EdLevel'].value_counts()"
   ]
  },
  {
   "cell_type": "code",
   "execution_count": 129,
   "id": "926ac6b2",
   "metadata": {},
   "outputs": [
    {
     "data": {
      "text/plain": [
       "87898"
      ]
     },
     "execution_count": 129,
     "metadata": {},
     "output_type": "execute_result"
    }
   ],
   "source": [
    "df['EdLevel'].count()"
   ]
  },
  {
   "cell_type": "markdown",
   "id": "4e274979",
   "metadata": {},
   "source": [
    "###### 6. AI select"
   ]
  },
  {
   "cell_type": "code",
   "execution_count": 130,
   "id": "573259d1",
   "metadata": {},
   "outputs": [
    {
     "data": {
      "text/plain": [
       "array(['Yes', \"No, and I don't plan to\", 'No, but I plan to soon'],\n",
       "      dtype=object)"
      ]
     },
     "execution_count": 130,
     "metadata": {},
     "output_type": "execute_result"
    }
   ],
   "source": [
    "df['AISelect'].unique()"
   ]
  },
  {
   "cell_type": "code",
   "execution_count": 131,
   "id": "da3fa816",
   "metadata": {},
   "outputs": [],
   "source": [
    "df['AISelect'].replace({\n",
    "    \"No, and I don't plan to\":\"No\",\n",
    "    \"No, but I plan to soon\":\"Start Soon\"\n",
    "}, inplace = True)"
   ]
  },
  {
   "cell_type": "code",
   "execution_count": 132,
   "id": "00a529e9",
   "metadata": {},
   "outputs": [
    {
     "data": {
      "text/plain": [
       "array(['Yes', 'No', 'Start Soon'], dtype=object)"
      ]
     },
     "execution_count": 132,
     "metadata": {},
     "output_type": "execute_result"
    }
   ],
   "source": [
    "df['AISelect'].unique()"
   ]
  },
  {
   "cell_type": "code",
   "execution_count": 133,
   "id": "c604a2c9",
   "metadata": {},
   "outputs": [
    {
     "data": {
      "text/plain": [
       "AISelect\n",
       "Yes           39014\n",
       "No            26204\n",
       "Start Soon    22680\n",
       "Name: count, dtype: int64"
      ]
     },
     "execution_count": 133,
     "metadata": {},
     "output_type": "execute_result"
    }
   ],
   "source": [
    "df['AISelect'].value_counts()"
   ]
  },
  {
   "cell_type": "code",
   "execution_count": 134,
   "id": "bc1e0158",
   "metadata": {},
   "outputs": [
    {
     "data": {
      "text/plain": [
       "0"
      ]
     },
     "execution_count": 134,
     "metadata": {},
     "output_type": "execute_result"
    }
   ],
   "source": [
    "df['AISelect'].isna().sum()"
   ]
  },
  {
   "cell_type": "markdown",
   "id": "91472349",
   "metadata": {},
   "source": [
    "###### 7. Devtype"
   ]
  },
  {
   "cell_type": "code",
   "execution_count": 135,
   "id": "742261fb",
   "metadata": {},
   "outputs": [
    {
     "data": {
      "text/plain": [
       "array(['Senior Executive (C-Suite, VP, etc.)', 'Developer, back-end',\n",
       "       'Developer, front-end', 'Developer, full-stack',\n",
       "       'System administrator',\n",
       "       'Developer, desktop or enterprise applications',\n",
       "       'Developer, QA or test', 'Designer',\n",
       "       'Data scientist or machine learning specialist',\n",
       "       'Data or business analyst', 'Security professional', 'Educator',\n",
       "       'Research & Development role', nan, 'Other (please specify):',\n",
       "       'Developer, mobile', 'Database administrator',\n",
       "       'Developer, embedded applications or devices', 'Student',\n",
       "       'Engineer, data', 'Hardware Engineer', 'Product manager',\n",
       "       'Academic researcher', 'Developer, game or graphics',\n",
       "       'Cloud infrastructure engineer', 'Engineering manager',\n",
       "       'Developer Experience', 'Project manager', 'DevOps specialist',\n",
       "       'Engineer, site reliability', 'Blockchain', 'Developer Advocate',\n",
       "       'Scientist', 'Marketing or sales professional'], dtype=object)"
      ]
     },
     "execution_count": 135,
     "metadata": {},
     "output_type": "execute_result"
    }
   ],
   "source": [
    "df['DevType'].unique()"
   ]
  },
  {
   "cell_type": "code",
   "execution_count": 136,
   "id": "33ff0c95",
   "metadata": {},
   "outputs": [
    {
     "data": {
      "text/plain": [
       "11026"
      ]
     },
     "execution_count": 136,
     "metadata": {},
     "output_type": "execute_result"
    }
   ],
   "source": [
    "df['DevType'].isna().sum()"
   ]
  },
  {
   "cell_type": "code",
   "execution_count": 137,
   "id": "d64a2f07",
   "metadata": {},
   "outputs": [],
   "source": [
    "df['DevType'].fillna('Other (please specify):', inplace = True)"
   ]
  },
  {
   "cell_type": "code",
   "execution_count": 138,
   "id": "642e9edd",
   "metadata": {},
   "outputs": [
    {
     "data": {
      "text/plain": [
       "DevType\n",
       "Developer, full-stack                            25735\n",
       "Other (please specify):                          14106\n",
       "Developer, back-end                              13745\n",
       "Developer, front-end                              5071\n",
       "Developer, desktop or enterprise applications     3904\n",
       "Developer, mobile                                 2597\n",
       "Engineering manager                               2033\n",
       "Student                                           1996\n",
       "Developer, embedded applications or devices       1845\n",
       "Data scientist or machine learning specialist     1588\n",
       "DevOps specialist                                 1387\n",
       "Academic researcher                               1354\n",
       "Research & Development role                       1353\n",
       "Senior Executive (C-Suite, VP, etc.)              1332\n",
       "Engineer, data                                    1248\n",
       "Cloud infrastructure engineer                     1036\n",
       "Developer, game or graphics                        866\n",
       "Data or business analyst                           837\n",
       "System administrator                               743\n",
       "Project manager                                    589\n",
       "Developer, QA or test                              586\n",
       "Security professional                              474\n",
       "Product manager                                    446\n",
       "Engineer, site reliability                         427\n",
       "Educator                                           415\n",
       "Scientist                                          351\n",
       "Developer Experience                               326\n",
       "Blockchain                                         323\n",
       "Hardware Engineer                                  286\n",
       "Designer                                           281\n",
       "Database administrator                             257\n",
       "Developer Advocate                                 212\n",
       "Marketing or sales professional                    149\n",
       "Name: count, dtype: int64"
      ]
     },
     "execution_count": 138,
     "metadata": {},
     "output_type": "execute_result"
    }
   ],
   "source": [
    "df['DevType'].value_counts()"
   ]
  },
  {
   "cell_type": "code",
   "execution_count": 139,
   "id": "8971dea7",
   "metadata": {},
   "outputs": [],
   "source": [
    "df['DevType'].replace({'Other (please specify):':'Others'}, inplace = True)"
   ]
  },
  {
   "cell_type": "code",
   "execution_count": 140,
   "id": "ef156848",
   "metadata": {},
   "outputs": [
    {
     "data": {
      "text/plain": [
       "array(['Senior Executive (C-Suite, VP, etc.)', 'Developer, back-end',\n",
       "       'Developer, front-end', 'Developer, full-stack',\n",
       "       'System administrator',\n",
       "       'Developer, desktop or enterprise applications',\n",
       "       'Developer, QA or test', 'Designer',\n",
       "       'Data scientist or machine learning specialist',\n",
       "       'Data or business analyst', 'Security professional', 'Educator',\n",
       "       'Research & Development role', 'Others', 'Developer, mobile',\n",
       "       'Database administrator',\n",
       "       'Developer, embedded applications or devices', 'Student',\n",
       "       'Engineer, data', 'Hardware Engineer', 'Product manager',\n",
       "       'Academic researcher', 'Developer, game or graphics',\n",
       "       'Cloud infrastructure engineer', 'Engineering manager',\n",
       "       'Developer Experience', 'Project manager', 'DevOps specialist',\n",
       "       'Engineer, site reliability', 'Blockchain', 'Developer Advocate',\n",
       "       'Scientist', 'Marketing or sales professional'], dtype=object)"
      ]
     },
     "execution_count": 140,
     "metadata": {},
     "output_type": "execute_result"
    }
   ],
   "source": [
    "df['DevType'].unique()"
   ]
  },
  {
   "cell_type": "code",
   "execution_count": null,
   "id": "37c3c98d",
   "metadata": {},
   "outputs": [],
   "source": []
  },
  {
   "cell_type": "markdown",
   "id": "f724266c",
   "metadata": {},
   "source": [
    "\n",
    "#### extracting the required data"
   ]
  },
  {
   "cell_type": "code",
   "execution_count": 141,
   "id": "b98e4b55",
   "metadata": {},
   "outputs": [],
   "source": [
    "required_data = df[['ResponseId', 'MainBranch', 'Age', 'Employment', 'RemoteWork', 'EdLevel', 'YearsCode', 'DevType', 'Country', 'AISelect']]"
   ]
  },
  {
   "cell_type": "code",
   "execution_count": 142,
   "id": "83afc205",
   "metadata": {
    "scrolled": true
   },
   "outputs": [
    {
     "data": {
      "text/plain": [
       "ResponseId    87898\n",
       "MainBranch    87898\n",
       "Age           87898\n",
       "Employment    87898\n",
       "RemoteWork    87898\n",
       "EdLevel       87898\n",
       "YearsCode     87898\n",
       "DevType       87898\n",
       "Country       87898\n",
       "AISelect      87898\n",
       "dtype: int64"
      ]
     },
     "execution_count": 142,
     "metadata": {},
     "output_type": "execute_result"
    }
   ],
   "source": [
    "required_data.count()"
   ]
  },
  {
   "cell_type": "code",
   "execution_count": 143,
   "id": "16da2683",
   "metadata": {},
   "outputs": [
    {
     "data": {
      "text/plain": [
       "ResponseId     int64\n",
       "MainBranch    object\n",
       "Age           object\n",
       "Employment    object\n",
       "RemoteWork    object\n",
       "EdLevel       object\n",
       "YearsCode      int64\n",
       "DevType       object\n",
       "Country       object\n",
       "AISelect      object\n",
       "dtype: object"
      ]
     },
     "execution_count": 143,
     "metadata": {},
     "output_type": "execute_result"
    }
   ],
   "source": [
    "required_data.dtypes"
   ]
  },
  {
   "cell_type": "code",
   "execution_count": 144,
   "id": "1c1f2927",
   "metadata": {},
   "outputs": [],
   "source": [
    "required_data.to_csv('required_data.csv')"
   ]
  },
  {
   "cell_type": "code",
   "execution_count": null,
   "id": "f07b63ea",
   "metadata": {},
   "outputs": [],
   "source": []
  }
 ],
 "metadata": {
  "kernelspec": {
   "display_name": "Python 3 (ipykernel)",
   "language": "python",
   "name": "python3"
  },
  "language_info": {
   "codemirror_mode": {
    "name": "ipython",
    "version": 3
   },
   "file_extension": ".py",
   "mimetype": "text/x-python",
   "name": "python",
   "nbconvert_exporter": "python",
   "pygments_lexer": "ipython3",
   "version": "3.11.4"
  }
 },
 "nbformat": 4,
 "nbformat_minor": 5
}
