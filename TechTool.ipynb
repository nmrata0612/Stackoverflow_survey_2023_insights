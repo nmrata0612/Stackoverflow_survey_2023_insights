{
 "cells": [
  {
   "cell_type": "code",
   "execution_count": 1,
   "id": "96c825cd",
   "metadata": {},
   "outputs": [],
   "source": [
    "import pandas as pd\n",
    "import numpy as np"
   ]
  },
  {
   "cell_type": "code",
   "execution_count": 2,
   "id": "34c247d4",
   "metadata": {},
   "outputs": [],
   "source": [
    "df = pd.read_csv('survey_results_public.csv')"
   ]
  },
  {
   "cell_type": "code",
   "execution_count": 3,
   "id": "03176863",
   "metadata": {},
   "outputs": [],
   "source": [
    "required_data = pd.read_csv(\"required_data.csv\")"
   ]
  },
  {
   "cell_type": "code",
   "execution_count": 4,
   "id": "d7b7fe71",
   "metadata": {},
   "outputs": [],
   "source": [
    "df['ToolsTechHaveWorkedWith'] = df['ToolsTechHaveWorkedWith'].str.split(';')\n",
    "df['ToolsTechWantToWorkWith'] = df['ToolsTechWantToWorkWith'].str.split(';')"
   ]
  },
  {
   "cell_type": "code",
   "execution_count": 5,
   "id": "b994225d",
   "metadata": {},
   "outputs": [
    {
     "data": {
      "text/html": [
       "<div>\n",
       "<style scoped>\n",
       "    .dataframe tbody tr th:only-of-type {\n",
       "        vertical-align: middle;\n",
       "    }\n",
       "\n",
       "    .dataframe tbody tr th {\n",
       "        vertical-align: top;\n",
       "    }\n",
       "\n",
       "    .dataframe thead th {\n",
       "        text-align: right;\n",
       "    }\n",
       "</style>\n",
       "<table border=\"1\" class=\"dataframe\">\n",
       "  <thead>\n",
       "    <tr style=\"text-align: right;\">\n",
       "      <th></th>\n",
       "      <th>ToolsTechHaveWorkedWith</th>\n",
       "      <th>ToolsTechWantToWorkWith</th>\n",
       "    </tr>\n",
       "  </thead>\n",
       "  <tbody>\n",
       "    <tr>\n",
       "      <th>0</th>\n",
       "      <td>NaN</td>\n",
       "      <td>NaN</td>\n",
       "    </tr>\n",
       "    <tr>\n",
       "      <th>1</th>\n",
       "      <td>[Docker, Kubernetes, npm, Pip, Vite, Webpack, ...</td>\n",
       "      <td>[Godot, npm, pnpm, Unity 3D, Unreal Engine, Vi...</td>\n",
       "    </tr>\n",
       "    <tr>\n",
       "      <th>2</th>\n",
       "      <td>[Cargo, Docker, Kubernetes, Make, Nix]</td>\n",
       "      <td>[Cargo, Kubernetes, Nix]</td>\n",
       "    </tr>\n",
       "    <tr>\n",
       "      <th>3</th>\n",
       "      <td>[Homebrew, npm, Vite, Webpack, Yarn]</td>\n",
       "      <td>[Homebrew, npm, Vite]</td>\n",
       "    </tr>\n",
       "    <tr>\n",
       "      <th>4</th>\n",
       "      <td>[Docker, npm, Webpack, Yarn]</td>\n",
       "      <td>[Docker, npm, Yarn]</td>\n",
       "    </tr>\n",
       "  </tbody>\n",
       "</table>\n",
       "</div>"
      ],
      "text/plain": [
       "                             ToolsTechHaveWorkedWith  \\\n",
       "0                                                NaN   \n",
       "1  [Docker, Kubernetes, npm, Pip, Vite, Webpack, ...   \n",
       "2             [Cargo, Docker, Kubernetes, Make, Nix]   \n",
       "3               [Homebrew, npm, Vite, Webpack, Yarn]   \n",
       "4                       [Docker, npm, Webpack, Yarn]   \n",
       "\n",
       "                             ToolsTechWantToWorkWith  \n",
       "0                                                NaN  \n",
       "1  [Godot, npm, pnpm, Unity 3D, Unreal Engine, Vi...  \n",
       "2                           [Cargo, Kubernetes, Nix]  \n",
       "3                              [Homebrew, npm, Vite]  \n",
       "4                                [Docker, npm, Yarn]  "
      ]
     },
     "execution_count": 5,
     "metadata": {},
     "output_type": "execute_result"
    }
   ],
   "source": [
    "df[['ToolsTechHaveWorkedWith', 'ToolsTechWantToWorkWith']].head(5)"
   ]
  },
  {
   "cell_type": "code",
   "execution_count": 6,
   "id": "6b1a6983",
   "metadata": {},
   "outputs": [],
   "source": [
    "TechToolDf = df[['ResponseId', 'ToolsTechHaveWorkedWith', 'ToolsTechWantToWorkWith']]"
   ]
  },
  {
   "cell_type": "code",
   "execution_count": 7,
   "id": "c1f9334a",
   "metadata": {},
   "outputs": [],
   "source": [
    "TechToolDf = required_data.merge(TechToolDf, how='left', on='ResponseId')"
   ]
  },
  {
   "cell_type": "code",
   "execution_count": 8,
   "id": "8c5612b5",
   "metadata": {},
   "outputs": [],
   "source": [
    "ToolWorkedWithDf = df[['ResponseId', 'ToolsTechHaveWorkedWith']]"
   ]
  },
  {
   "cell_type": "code",
   "execution_count": 9,
   "id": "ecdba3b9",
   "metadata": {},
   "outputs": [],
   "source": [
    "ToolWorkedWithDf = ToolWorkedWithDf.explode('ToolsTechHaveWorkedWith')"
   ]
  },
  {
   "cell_type": "code",
   "execution_count": 10,
   "id": "31222725",
   "metadata": {},
   "outputs": [],
   "source": [
    "Tool_count = ToolWorkedWithDf['ToolsTechHaveWorkedWith'].value_counts()"
   ]
  },
  {
   "cell_type": "code",
   "execution_count": 11,
   "id": "ffbe0af9",
   "metadata": {},
   "outputs": [
    {
     "data": {
      "text/plain": [
       "ToolsTechHaveWorkedWith\n",
       "Docker      41369\n",
       "npm         39609\n",
       "Pip         23281\n",
       "Homebrew    17647\n",
       "Yarn        17545\n",
       "Name: count, dtype: int64"
      ]
     },
     "execution_count": 11,
     "metadata": {},
     "output_type": "execute_result"
    }
   ],
   "source": [
    "Tool_count.head()"
   ]
  },
  {
   "cell_type": "code",
   "execution_count": 12,
   "id": "3f607288",
   "metadata": {},
   "outputs": [
    {
     "data": {
      "text/plain": [
       "array([nan, 'Docker', 'Kubernetes', 'npm', 'Pip', 'Vite', 'Webpack',\n",
       "       'Yarn', 'Cargo', 'Make', 'Nix', 'Homebrew', 'pnpm', 'Terraform',\n",
       "       'Bun', 'Chocolatey', 'Maven (build tool)', 'Ansible', 'MSBuild',\n",
       "       'NuGet', 'Visual Studio Solution', 'Gradle', 'Chef', 'CMake',\n",
       "       'GNU GCC', 'Ant', 'Wasmer', 'Boost.Test', 'Podman', 'APT',\n",
       "       \"LLVM's Clang\", 'Composer', 'bandit', 'doctest', 'MSVC',\n",
       "       'Unity 3D', 'Dagger', 'Unreal Engine', 'cppunit', 'Google Test',\n",
       "       'Pacman', 'Godot', 'Ninja', 'Meson', 'QMake', 'Catch2', 'Puppet',\n",
       "       'build2', 'Pulumi', 'SCons', 'tunit', 'ELFspy', 'lest', 'CUTE',\n",
       "       'snitch', 'liblittletest'], dtype=object)"
      ]
     },
     "execution_count": 12,
     "metadata": {},
     "output_type": "execute_result"
    }
   ],
   "source": [
    "ToolWorkedWithDf['ToolsTechHaveWorkedWith'].unique()"
   ]
  },
  {
   "cell_type": "code",
   "execution_count": 13,
   "id": "202c2fb2",
   "metadata": {},
   "outputs": [],
   "source": [
    "result = ToolWorkedWithDf.merge(required_data, how='left', on='ResponseId')"
   ]
  },
  {
   "cell_type": "code",
   "execution_count": 14,
   "id": "e36c9eb9",
   "metadata": {},
   "outputs": [
    {
     "data": {
      "text/html": [
       "<div>\n",
       "<style scoped>\n",
       "    .dataframe tbody tr th:only-of-type {\n",
       "        vertical-align: middle;\n",
       "    }\n",
       "\n",
       "    .dataframe tbody tr th {\n",
       "        vertical-align: top;\n",
       "    }\n",
       "\n",
       "    .dataframe thead th {\n",
       "        text-align: right;\n",
       "    }\n",
       "</style>\n",
       "<table border=\"1\" class=\"dataframe\">\n",
       "  <thead>\n",
       "    <tr style=\"text-align: right;\">\n",
       "      <th></th>\n",
       "      <th>ToolsTechHaveWorkedWith</th>\n",
       "      <th>ResponseId</th>\n",
       "    </tr>\n",
       "  </thead>\n",
       "  <tbody>\n",
       "    <tr>\n",
       "      <th>0</th>\n",
       "      <td>Docker</td>\n",
       "      <td>32735</td>\n",
       "    </tr>\n",
       "    <tr>\n",
       "      <th>2</th>\n",
       "      <td>npm</td>\n",
       "      <td>28675</td>\n",
       "    </tr>\n",
       "    <tr>\n",
       "      <th>3</th>\n",
       "      <td>Pip</td>\n",
       "      <td>15680</td>\n",
       "    </tr>\n",
       "    <tr>\n",
       "      <th>10</th>\n",
       "      <td>Homebrew</td>\n",
       "      <td>13970</td>\n",
       "    </tr>\n",
       "    <tr>\n",
       "      <th>6</th>\n",
       "      <td>Yarn</td>\n",
       "      <td>13211</td>\n",
       "    </tr>\n",
       "    <tr>\n",
       "      <th>1</th>\n",
       "      <td>Kubernetes</td>\n",
       "      <td>13152</td>\n",
       "    </tr>\n",
       "    <tr>\n",
       "      <th>5</th>\n",
       "      <td>Webpack</td>\n",
       "      <td>12766</td>\n",
       "    </tr>\n",
       "    <tr>\n",
       "      <th>8</th>\n",
       "      <td>Make</td>\n",
       "      <td>11405</td>\n",
       "    </tr>\n",
       "    <tr>\n",
       "      <th>18</th>\n",
       "      <td>NuGet</td>\n",
       "      <td>9926</td>\n",
       "    </tr>\n",
       "    <tr>\n",
       "      <th>15</th>\n",
       "      <td>Maven (build tool)</td>\n",
       "      <td>9240</td>\n",
       "    </tr>\n",
       "  </tbody>\n",
       "</table>\n",
       "</div>"
      ],
      "text/plain": [
       "   ToolsTechHaveWorkedWith  ResponseId\n",
       "0                   Docker       32735\n",
       "2                      npm       28675\n",
       "3                      Pip       15680\n",
       "10                Homebrew       13970\n",
       "6                     Yarn       13211\n",
       "1               Kubernetes       13152\n",
       "5                  Webpack       12766\n",
       "8                     Make       11405\n",
       "18                   NuGet        9926\n",
       "15      Maven (build tool)        9240"
      ]
     },
     "execution_count": 14,
     "metadata": {},
     "output_type": "execute_result"
    }
   ],
   "source": [
    "employedToolUse_count = result[result['Employment'] == 'Employed'].groupby(by='ToolsTechHaveWorkedWith', as_index=False, sort=False)['ResponseId'].count()\n",
    "employedToolUse_count.nlargest(10, 'ResponseId')"
   ]
  },
  {
   "cell_type": "code",
   "execution_count": 15,
   "id": "84e5c85c",
   "metadata": {},
   "outputs": [
    {
     "data": {
      "text/html": [
       "<div>\n",
       "<style scoped>\n",
       "    .dataframe tbody tr th:only-of-type {\n",
       "        vertical-align: middle;\n",
       "    }\n",
       "\n",
       "    .dataframe tbody tr th {\n",
       "        vertical-align: top;\n",
       "    }\n",
       "\n",
       "    .dataframe thead th {\n",
       "        text-align: right;\n",
       "    }\n",
       "</style>\n",
       "<table border=\"1\" class=\"dataframe\">\n",
       "  <thead>\n",
       "    <tr style=\"text-align: right;\">\n",
       "      <th></th>\n",
       "      <th>ToolsTechHaveWorkedWith</th>\n",
       "      <th>ResponseId</th>\n",
       "    </tr>\n",
       "  </thead>\n",
       "  <tbody>\n",
       "    <tr>\n",
       "      <th>1</th>\n",
       "      <td>npm</td>\n",
       "      <td>4321</td>\n",
       "    </tr>\n",
       "    <tr>\n",
       "      <th>7</th>\n",
       "      <td>Pip</td>\n",
       "      <td>3915</td>\n",
       "    </tr>\n",
       "    <tr>\n",
       "      <th>0</th>\n",
       "      <td>Docker</td>\n",
       "      <td>3058</td>\n",
       "    </tr>\n",
       "    <tr>\n",
       "      <th>6</th>\n",
       "      <td>GNU GCC</td>\n",
       "      <td>2495</td>\n",
       "    </tr>\n",
       "    <tr>\n",
       "      <th>12</th>\n",
       "      <td>Cargo</td>\n",
       "      <td>2303</td>\n",
       "    </tr>\n",
       "    <tr>\n",
       "      <th>13</th>\n",
       "      <td>CMake</td>\n",
       "      <td>2298</td>\n",
       "    </tr>\n",
       "    <tr>\n",
       "      <th>11</th>\n",
       "      <td>Make</td>\n",
       "      <td>2272</td>\n",
       "    </tr>\n",
       "    <tr>\n",
       "      <th>23</th>\n",
       "      <td>Vite</td>\n",
       "      <td>1685</td>\n",
       "    </tr>\n",
       "    <tr>\n",
       "      <th>17</th>\n",
       "      <td>Gradle</td>\n",
       "      <td>1554</td>\n",
       "    </tr>\n",
       "    <tr>\n",
       "      <th>3</th>\n",
       "      <td>Unity 3D</td>\n",
       "      <td>1488</td>\n",
       "    </tr>\n",
       "  </tbody>\n",
       "</table>\n",
       "</div>"
      ],
      "text/plain": [
       "   ToolsTechHaveWorkedWith  ResponseId\n",
       "1                      npm        4321\n",
       "7                      Pip        3915\n",
       "0                   Docker        3058\n",
       "6                  GNU GCC        2495\n",
       "12                   Cargo        2303\n",
       "13                   CMake        2298\n",
       "11                    Make        2272\n",
       "23                    Vite        1685\n",
       "17                  Gradle        1554\n",
       "3                 Unity 3D        1488"
      ]
     },
     "execution_count": 15,
     "metadata": {},
     "output_type": "execute_result"
    }
   ],
   "source": [
    "studentToolUse_count = result[result['Employment'] == 'Student'].groupby(by='ToolsTechHaveWorkedWith', as_index=False, sort=False)['ResponseId'].count()\n",
    "studentToolUse_count.nlargest(10, 'ResponseId')"
   ]
  },
  {
   "cell_type": "code",
   "execution_count": 16,
   "id": "384a8e6e",
   "metadata": {},
   "outputs": [
    {
     "data": {
      "text/html": [
       "<div>\n",
       "<style scoped>\n",
       "    .dataframe tbody tr th:only-of-type {\n",
       "        vertical-align: middle;\n",
       "    }\n",
       "\n",
       "    .dataframe tbody tr th {\n",
       "        vertical-align: top;\n",
       "    }\n",
       "\n",
       "    .dataframe thead th {\n",
       "        text-align: right;\n",
       "    }\n",
       "</style>\n",
       "<table border=\"1\" class=\"dataframe\">\n",
       "  <thead>\n",
       "    <tr style=\"text-align: right;\">\n",
       "      <th></th>\n",
       "      <th>ToolsTechHaveWorkedWith</th>\n",
       "      <th>ResponseId</th>\n",
       "    </tr>\n",
       "  </thead>\n",
       "  <tbody>\n",
       "    <tr>\n",
       "      <th>4</th>\n",
       "      <td>Pip</td>\n",
       "      <td>230</td>\n",
       "    </tr>\n",
       "    <tr>\n",
       "      <th>0</th>\n",
       "      <td>Docker</td>\n",
       "      <td>184</td>\n",
       "    </tr>\n",
       "    <tr>\n",
       "      <th>2</th>\n",
       "      <td>npm</td>\n",
       "      <td>143</td>\n",
       "    </tr>\n",
       "    <tr>\n",
       "      <th>11</th>\n",
       "      <td>Visual Studio Solution</td>\n",
       "      <td>103</td>\n",
       "    </tr>\n",
       "    <tr>\n",
       "      <th>14</th>\n",
       "      <td>Homebrew</td>\n",
       "      <td>69</td>\n",
       "    </tr>\n",
       "    <tr>\n",
       "      <th>7</th>\n",
       "      <td>Make</td>\n",
       "      <td>55</td>\n",
       "    </tr>\n",
       "    <tr>\n",
       "      <th>13</th>\n",
       "      <td>Cargo</td>\n",
       "      <td>53</td>\n",
       "    </tr>\n",
       "    <tr>\n",
       "      <th>9</th>\n",
       "      <td>Kubernetes</td>\n",
       "      <td>49</td>\n",
       "    </tr>\n",
       "    <tr>\n",
       "      <th>8</th>\n",
       "      <td>GNU GCC</td>\n",
       "      <td>47</td>\n",
       "    </tr>\n",
       "    <tr>\n",
       "      <th>21</th>\n",
       "      <td>Yarn</td>\n",
       "      <td>43</td>\n",
       "    </tr>\n",
       "  </tbody>\n",
       "</table>\n",
       "</div>"
      ],
      "text/plain": [
       "   ToolsTechHaveWorkedWith  ResponseId\n",
       "4                      Pip         230\n",
       "0                   Docker         184\n",
       "2                      npm         143\n",
       "11  Visual Studio Solution         103\n",
       "14                Homebrew          69\n",
       "7                     Make          55\n",
       "13                   Cargo          53\n",
       "9               Kubernetes          49\n",
       "8                  GNU GCC          47\n",
       "21                    Yarn          43"
      ]
     },
     "execution_count": 16,
     "metadata": {},
     "output_type": "execute_result"
    }
   ],
   "source": [
    "ToolInDev = result[result['DevType'] == 'Data or business analyst'].groupby(by='ToolsTechHaveWorkedWith', as_index=False, sort=False)['ResponseId'].count()\n",
    "ToolInDev.nlargest(10, 'ResponseId')"
   ]
  },
  {
   "cell_type": "code",
   "execution_count": 17,
   "id": "5d8b3d9a",
   "metadata": {},
   "outputs": [],
   "source": [
    "ToolWantToWorkDF = TechToolDf[['ResponseId', 'ToolsTechWantToWorkWith']]"
   ]
  },
  {
   "cell_type": "code",
   "execution_count": 18,
   "id": "72e782f0",
   "metadata": {},
   "outputs": [],
   "source": [
    "ToolWantToWorkDF = ToolWantToWorkDF.explode('ToolsTechWantToWorkWith')"
   ]
  },
  {
   "cell_type": "code",
   "execution_count": 19,
   "id": "0996fa2a",
   "metadata": {},
   "outputs": [],
   "source": [
    "ToolWantToWorkDF['ToolsTechWantToWorkWith'] = ToolWantToWorkDF['ToolsTechWantToWorkWith'].str.replace(\"r\\[\\]\", \"\", regex=True)"
   ]
  },
  {
   "cell_type": "code",
   "execution_count": 20,
   "id": "0d49265a",
   "metadata": {},
   "outputs": [],
   "source": [
    "desireTool_count = ToolWantToWorkDF['ToolsTechWantToWorkWith'].value_counts()"
   ]
  },
  {
   "cell_type": "code",
   "execution_count": 21,
   "id": "e9b7479a",
   "metadata": {},
   "outputs": [
    {
     "data": {
      "text/plain": [
       "ToolsTechWantToWorkWith\n",
       "Docker        36724\n",
       "npm           24482\n",
       "Kubernetes    19415\n",
       "Pip           14452\n",
       "Vite          12779\n",
       "Name: count, dtype: int64"
      ]
     },
     "execution_count": 21,
     "metadata": {},
     "output_type": "execute_result"
    }
   ],
   "source": [
    "desireTool_count.head()"
   ]
  },
  {
   "cell_type": "code",
   "execution_count": 22,
   "id": "1b8119b5",
   "metadata": {},
   "outputs": [],
   "source": [
    "result1 = ToolWantToWorkDF.merge(required_data, how='left', on='ResponseId')"
   ]
  },
  {
   "cell_type": "code",
   "execution_count": 23,
   "id": "f82b5aa4",
   "metadata": {},
   "outputs": [
    {
     "data": {
      "text/html": [
       "<div>\n",
       "<style scoped>\n",
       "    .dataframe tbody tr th:only-of-type {\n",
       "        vertical-align: middle;\n",
       "    }\n",
       "\n",
       "    .dataframe tbody tr th {\n",
       "        vertical-align: top;\n",
       "    }\n",
       "\n",
       "    .dataframe thead th {\n",
       "        text-align: right;\n",
       "    }\n",
       "</style>\n",
       "<table border=\"1\" class=\"dataframe\">\n",
       "  <thead>\n",
       "    <tr style=\"text-align: right;\">\n",
       "      <th></th>\n",
       "      <th>ToolsTechWantToWorkWith</th>\n",
       "      <th>ResponseId</th>\n",
       "    </tr>\n",
       "  </thead>\n",
       "  <tbody>\n",
       "    <tr>\n",
       "      <th>12</th>\n",
       "      <td>Docker</td>\n",
       "      <td>28325</td>\n",
       "    </tr>\n",
       "    <tr>\n",
       "      <th>1</th>\n",
       "      <td>npm</td>\n",
       "      <td>17549</td>\n",
       "    </tr>\n",
       "    <tr>\n",
       "      <th>9</th>\n",
       "      <td>Kubernetes</td>\n",
       "      <td>15797</td>\n",
       "    </tr>\n",
       "    <tr>\n",
       "      <th>11</th>\n",
       "      <td>Homebrew</td>\n",
       "      <td>9632</td>\n",
       "    </tr>\n",
       "    <tr>\n",
       "      <th>25</th>\n",
       "      <td>Pip</td>\n",
       "      <td>9497</td>\n",
       "    </tr>\n",
       "    <tr>\n",
       "      <th>15</th>\n",
       "      <td>Terraform</td>\n",
       "      <td>8737</td>\n",
       "    </tr>\n",
       "    <tr>\n",
       "      <th>5</th>\n",
       "      <td>Vite</td>\n",
       "      <td>8645</td>\n",
       "    </tr>\n",
       "    <tr>\n",
       "      <th>7</th>\n",
       "      <td>Yarn</td>\n",
       "      <td>8068</td>\n",
       "    </tr>\n",
       "    <tr>\n",
       "      <th>8</th>\n",
       "      <td>Cargo</td>\n",
       "      <td>7745</td>\n",
       "    </tr>\n",
       "    <tr>\n",
       "      <th>14</th>\n",
       "      <td>Make</td>\n",
       "      <td>6903</td>\n",
       "    </tr>\n",
       "  </tbody>\n",
       "</table>\n",
       "</div>"
      ],
      "text/plain": [
       "   ToolsTechWantToWorkWith  ResponseId\n",
       "12                  Docker       28325\n",
       "1                      npm       17549\n",
       "9               Kubernetes       15797\n",
       "11                Homebrew        9632\n",
       "25                     Pip        9497\n",
       "15               Terraform        8737\n",
       "5                     Vite        8645\n",
       "7                     Yarn        8068\n",
       "8                    Cargo        7745\n",
       "14                    Make        6903"
      ]
     },
     "execution_count": 23,
     "metadata": {},
     "output_type": "execute_result"
    }
   ],
   "source": [
    "employedTooldesire_count = result1[result1['Employment'] == 'Employed'].groupby(by='ToolsTechWantToWorkWith', as_index=False, sort=False)['ResponseId'].count()\n",
    "employedTooldesire_count.nlargest(10, 'ResponseId')"
   ]
  },
  {
   "cell_type": "code",
   "execution_count": 24,
   "id": "7fa42fe9",
   "metadata": {},
   "outputs": [
    {
     "data": {
      "text/html": [
       "<div>\n",
       "<style scoped>\n",
       "    .dataframe tbody tr th:only-of-type {\n",
       "        vertical-align: middle;\n",
       "    }\n",
       "\n",
       "    .dataframe tbody tr th {\n",
       "        vertical-align: top;\n",
       "    }\n",
       "\n",
       "    .dataframe thead th {\n",
       "        text-align: right;\n",
       "    }\n",
       "</style>\n",
       "<table border=\"1\" class=\"dataframe\">\n",
       "  <thead>\n",
       "    <tr style=\"text-align: right;\">\n",
       "      <th></th>\n",
       "      <th>ToolsTechWantToWorkWith</th>\n",
       "      <th>ResponseId</th>\n",
       "    </tr>\n",
       "  </thead>\n",
       "  <tbody>\n",
       "    <tr>\n",
       "      <th>0</th>\n",
       "      <td>Docker</td>\n",
       "      <td>3213</td>\n",
       "    </tr>\n",
       "    <tr>\n",
       "      <th>1</th>\n",
       "      <td>npm</td>\n",
       "      <td>2718</td>\n",
       "    </tr>\n",
       "    <tr>\n",
       "      <th>7</th>\n",
       "      <td>Pip</td>\n",
       "      <td>2605</td>\n",
       "    </tr>\n",
       "    <tr>\n",
       "      <th>13</th>\n",
       "      <td>Cargo</td>\n",
       "      <td>2449</td>\n",
       "    </tr>\n",
       "    <tr>\n",
       "      <th>6</th>\n",
       "      <td>GNU GCC</td>\n",
       "      <td>1815</td>\n",
       "    </tr>\n",
       "    <tr>\n",
       "      <th>14</th>\n",
       "      <td>Vite</td>\n",
       "      <td>1646</td>\n",
       "    </tr>\n",
       "    <tr>\n",
       "      <th>12</th>\n",
       "      <td>Make</td>\n",
       "      <td>1512</td>\n",
       "    </tr>\n",
       "    <tr>\n",
       "      <th>19</th>\n",
       "      <td>CMake</td>\n",
       "      <td>1371</td>\n",
       "    </tr>\n",
       "    <tr>\n",
       "      <th>8</th>\n",
       "      <td>Kubernetes</td>\n",
       "      <td>1217</td>\n",
       "    </tr>\n",
       "    <tr>\n",
       "      <th>3</th>\n",
       "      <td>Unity 3D</td>\n",
       "      <td>1210</td>\n",
       "    </tr>\n",
       "  </tbody>\n",
       "</table>\n",
       "</div>"
      ],
      "text/plain": [
       "   ToolsTechWantToWorkWith  ResponseId\n",
       "0                   Docker        3213\n",
       "1                      npm        2718\n",
       "7                      Pip        2605\n",
       "13                   Cargo        2449\n",
       "6                  GNU GCC        1815\n",
       "14                    Vite        1646\n",
       "12                    Make        1512\n",
       "19                   CMake        1371\n",
       "8               Kubernetes        1217\n",
       "3                 Unity 3D        1210"
      ]
     },
     "execution_count": 24,
     "metadata": {},
     "output_type": "execute_result"
    }
   ],
   "source": [
    "studentTooldesire_count = result1[result1['Employment'] == 'Student'].groupby(by='ToolsTechWantToWorkWith', as_index=False, sort=False)['ResponseId'].count()\n",
    "studentTooldesire_count.nlargest(10, 'ResponseId')"
   ]
  },
  {
   "cell_type": "code",
   "execution_count": 25,
   "id": "4926af41",
   "metadata": {},
   "outputs": [],
   "source": [
    "ToolWorkedWithDf = ToolWorkedWithDf.dropna()"
   ]
  },
  {
   "cell_type": "code",
   "execution_count": 26,
   "id": "e103487e",
   "metadata": {},
   "outputs": [],
   "source": [
    "ToolWorkedWithDf.to_csv('TechToolHaveWorkedWith.csv')"
   ]
  },
  {
   "cell_type": "code",
   "execution_count": 27,
   "id": "2cd17f0b",
   "metadata": {},
   "outputs": [],
   "source": [
    "TechToolDf = df[['ToolsTechHaveWorkedWith', 'ToolsTechWantToWorkWith', 'ResponseId']]"
   ]
  },
  {
   "cell_type": "code",
   "execution_count": 28,
   "id": "81f92338",
   "metadata": {},
   "outputs": [],
   "source": [
    "TechToolDf = required_data.merge(TechToolDf, how='left', on='ResponseId')"
   ]
  },
  {
   "cell_type": "code",
   "execution_count": 29,
   "id": "5fd575ea",
   "metadata": {},
   "outputs": [],
   "source": [
    "TechToolDf = TechToolDf.dropna()"
   ]
  },
  {
   "cell_type": "code",
   "execution_count": 31,
   "id": "06465c66",
   "metadata": {},
   "outputs": [],
   "source": [
    "def process_tool(row):\n",
    "    list1 = row['ToolsTechHaveWorkedWith']\n",
    "    list2 = row['ToolsTechWantToWorkWith']\n",
    "    list3 = set(list1) & set(list2)\n",
    "    return list(list3)\n",
    "\n",
    "TechToolDf['continueTool'] = TechToolDf.apply(process_tool, axis=1)"
   ]
  },
  {
   "cell_type": "code",
   "execution_count": 32,
   "id": "1c800f2c",
   "metadata": {},
   "outputs": [],
   "source": [
    "def process_tool(row):\n",
    "    list1 = row['ToolsTechHaveWorkedWith']\n",
    "    list2 = row['ToolsTechWantToWorkWith']\n",
    "    list3 = set(list2) - set(list1)\n",
    "    return list(list3)\n",
    "\n",
    "TechToolDf['newTool'] = TechToolDf.apply(process_tool, axis=1)"
   ]
  },
  {
   "cell_type": "code",
   "execution_count": 33,
   "id": "2221a2e8",
   "metadata": {},
   "outputs": [
    {
     "data": {
      "text/html": [
       "<div>\n",
       "<style scoped>\n",
       "    .dataframe tbody tr th:only-of-type {\n",
       "        vertical-align: middle;\n",
       "    }\n",
       "\n",
       "    .dataframe tbody tr th {\n",
       "        vertical-align: top;\n",
       "    }\n",
       "\n",
       "    .dataframe thead th {\n",
       "        text-align: right;\n",
       "    }\n",
       "</style>\n",
       "<table border=\"1\" class=\"dataframe\">\n",
       "  <thead>\n",
       "    <tr style=\"text-align: right;\">\n",
       "      <th></th>\n",
       "      <th>Unnamed: 0</th>\n",
       "      <th>ResponseId</th>\n",
       "      <th>MainBranch</th>\n",
       "      <th>Age</th>\n",
       "      <th>Employment</th>\n",
       "      <th>RemoteWork</th>\n",
       "      <th>EdLevel</th>\n",
       "      <th>YearsCode</th>\n",
       "      <th>DevType</th>\n",
       "      <th>Country</th>\n",
       "      <th>AISelect</th>\n",
       "      <th>ToolsTechHaveWorkedWith</th>\n",
       "      <th>ToolsTechWantToWorkWith</th>\n",
       "      <th>continueTool</th>\n",
       "      <th>newTool</th>\n",
       "    </tr>\n",
       "  </thead>\n",
       "  <tbody>\n",
       "    <tr>\n",
       "      <th>0</th>\n",
       "      <td>1</td>\n",
       "      <td>2</td>\n",
       "      <td>Professional coder</td>\n",
       "      <td>25-34</td>\n",
       "      <td>Employed</td>\n",
       "      <td>Remote</td>\n",
       "      <td>Bachelor’s degree</td>\n",
       "      <td>18</td>\n",
       "      <td>Senior Executive (C-Suite, VP, etc.)</td>\n",
       "      <td>United States of America</td>\n",
       "      <td>Yes</td>\n",
       "      <td>[Docker, Kubernetes, npm, Pip, Vite, Webpack, ...</td>\n",
       "      <td>[Godot, npm, pnpm, Unity 3D, Unreal Engine, Vi...</td>\n",
       "      <td>[Yarn, Webpack, npm, Vite]</td>\n",
       "      <td>[Unity 3D, Godot, Unreal Engine, pnpm]</td>\n",
       "    </tr>\n",
       "    <tr>\n",
       "      <th>1</th>\n",
       "      <td>2</td>\n",
       "      <td>3</td>\n",
       "      <td>Professional coder</td>\n",
       "      <td>45-54</td>\n",
       "      <td>Employed</td>\n",
       "      <td>Hybrid</td>\n",
       "      <td>Bachelor’s degree</td>\n",
       "      <td>27</td>\n",
       "      <td>Developer, back-end</td>\n",
       "      <td>United States of America</td>\n",
       "      <td>No</td>\n",
       "      <td>[Cargo, Docker, Kubernetes, Make, Nix]</td>\n",
       "      <td>[Cargo, Kubernetes, Nix]</td>\n",
       "      <td>[Cargo, Nix, Kubernetes]</td>\n",
       "      <td>[]</td>\n",
       "    </tr>\n",
       "    <tr>\n",
       "      <th>2</th>\n",
       "      <td>3</td>\n",
       "      <td>4</td>\n",
       "      <td>Professional coder</td>\n",
       "      <td>25-34</td>\n",
       "      <td>Employed</td>\n",
       "      <td>Hybrid</td>\n",
       "      <td>Bachelor’s degree</td>\n",
       "      <td>12</td>\n",
       "      <td>Developer, front-end</td>\n",
       "      <td>United States of America</td>\n",
       "      <td>No</td>\n",
       "      <td>[Homebrew, npm, Vite, Webpack, Yarn]</td>\n",
       "      <td>[Homebrew, npm, Vite]</td>\n",
       "      <td>[Homebrew, npm, Vite]</td>\n",
       "      <td>[]</td>\n",
       "    </tr>\n",
       "    <tr>\n",
       "      <th>3</th>\n",
       "      <td>4</td>\n",
       "      <td>5</td>\n",
       "      <td>Professional coder</td>\n",
       "      <td>25-34</td>\n",
       "      <td>Employed</td>\n",
       "      <td>Remote</td>\n",
       "      <td>Bachelor’s degree</td>\n",
       "      <td>6</td>\n",
       "      <td>Developer, full-stack</td>\n",
       "      <td>Philippines</td>\n",
       "      <td>Yes</td>\n",
       "      <td>[Docker, npm, Webpack, Yarn]</td>\n",
       "      <td>[Docker, npm, Yarn]</td>\n",
       "      <td>[Yarn, Docker, npm]</td>\n",
       "      <td>[]</td>\n",
       "    </tr>\n",
       "    <tr>\n",
       "      <th>4</th>\n",
       "      <td>5</td>\n",
       "      <td>6</td>\n",
       "      <td>Professional coder</td>\n",
       "      <td>35-44</td>\n",
       "      <td>Employed</td>\n",
       "      <td>Remote</td>\n",
       "      <td>Without degree</td>\n",
       "      <td>21</td>\n",
       "      <td>Developer, back-end</td>\n",
       "      <td>United Kingdom of Great Britain and Northern I...</td>\n",
       "      <td>Yes</td>\n",
       "      <td>[Docker, Homebrew, Kubernetes, npm, pnpm, Terr...</td>\n",
       "      <td>[Cargo]</td>\n",
       "      <td>[]</td>\n",
       "      <td>[Cargo]</td>\n",
       "    </tr>\n",
       "  </tbody>\n",
       "</table>\n",
       "</div>"
      ],
      "text/plain": [
       "   Unnamed: 0  ResponseId          MainBranch    Age Employment RemoteWork  \\\n",
       "0           1           2  Professional coder  25-34   Employed     Remote   \n",
       "1           2           3  Professional coder  45-54   Employed     Hybrid   \n",
       "2           3           4  Professional coder  25-34   Employed     Hybrid   \n",
       "3           4           5  Professional coder  25-34   Employed     Remote   \n",
       "4           5           6  Professional coder  35-44   Employed     Remote   \n",
       "\n",
       "             EdLevel  YearsCode                               DevType  \\\n",
       "0  Bachelor’s degree         18  Senior Executive (C-Suite, VP, etc.)   \n",
       "1  Bachelor’s degree         27                   Developer, back-end   \n",
       "2  Bachelor’s degree         12                  Developer, front-end   \n",
       "3  Bachelor’s degree          6                 Developer, full-stack   \n",
       "4     Without degree         21                   Developer, back-end   \n",
       "\n",
       "                                             Country AISelect  \\\n",
       "0                           United States of America      Yes   \n",
       "1                           United States of America       No   \n",
       "2                           United States of America       No   \n",
       "3                                        Philippines      Yes   \n",
       "4  United Kingdom of Great Britain and Northern I...      Yes   \n",
       "\n",
       "                             ToolsTechHaveWorkedWith  \\\n",
       "0  [Docker, Kubernetes, npm, Pip, Vite, Webpack, ...   \n",
       "1             [Cargo, Docker, Kubernetes, Make, Nix]   \n",
       "2               [Homebrew, npm, Vite, Webpack, Yarn]   \n",
       "3                       [Docker, npm, Webpack, Yarn]   \n",
       "4  [Docker, Homebrew, Kubernetes, npm, pnpm, Terr...   \n",
       "\n",
       "                             ToolsTechWantToWorkWith  \\\n",
       "0  [Godot, npm, pnpm, Unity 3D, Unreal Engine, Vi...   \n",
       "1                           [Cargo, Kubernetes, Nix]   \n",
       "2                              [Homebrew, npm, Vite]   \n",
       "3                                [Docker, npm, Yarn]   \n",
       "4                                            [Cargo]   \n",
       "\n",
       "                 continueTool                                 newTool  \n",
       "0  [Yarn, Webpack, npm, Vite]  [Unity 3D, Godot, Unreal Engine, pnpm]  \n",
       "1    [Cargo, Nix, Kubernetes]                                      []  \n",
       "2       [Homebrew, npm, Vite]                                      []  \n",
       "3         [Yarn, Docker, npm]                                      []  \n",
       "4                          []                                 [Cargo]  "
      ]
     },
     "execution_count": 33,
     "metadata": {},
     "output_type": "execute_result"
    }
   ],
   "source": [
    "TechToolDf.head()"
   ]
  },
  {
   "cell_type": "code",
   "execution_count": 35,
   "id": "c4c43cc7",
   "metadata": {},
   "outputs": [],
   "source": [
    "toolUse = TechToolDf[['continueTool', 'ResponseId']]\n",
    "toolUse = toolUse.explode('continueTool')"
   ]
  },
  {
   "cell_type": "code",
   "execution_count": 36,
   "id": "1a02ed7a",
   "metadata": {},
   "outputs": [],
   "source": [
    "toolUse = toolUse.groupby(by='continueTool', as_index=False)['ResponseId'].count()"
   ]
  },
  {
   "cell_type": "code",
   "execution_count": 37,
   "id": "d89bdc9a",
   "metadata": {},
   "outputs": [],
   "source": [
    "desireTool = TechToolDf[['newTool', 'ResponseId']]\n",
    "desireTool = desireTool.explode('newTool')"
   ]
  },
  {
   "cell_type": "code",
   "execution_count": 38,
   "id": "43536890",
   "metadata": {},
   "outputs": [],
   "source": [
    "desireTool = desireTool.groupby(by='newTool', as_index=False)['ResponseId'].count()"
   ]
  },
  {
   "cell_type": "code",
   "execution_count": 39,
   "id": "71535227",
   "metadata": {},
   "outputs": [],
   "source": [
    "TechToolTable = toolUse.merge(desireTool, how='inner', left_on='continueTool', right_on='newTool')"
   ]
  },
  {
   "cell_type": "code",
   "execution_count": 45,
   "id": "24f030f1",
   "metadata": {},
   "outputs": [
    {
     "ename": "KeyError",
     "evalue": "\"None of [Index(['continueTool', 'ResponseId_x', 'ResponseId_y'], dtype='object')] are in the [columns]\"",
     "output_type": "error",
     "traceback": [
      "\u001b[1;31m---------------------------------------------------------------------------\u001b[0m",
      "\u001b[1;31mKeyError\u001b[0m                                  Traceback (most recent call last)",
      "Cell \u001b[1;32mIn[45], line 1\u001b[0m\n\u001b[1;32m----> 1\u001b[0m TechToolTable \u001b[38;5;241m=\u001b[39m TechToolTable[[\u001b[38;5;124m'\u001b[39m\u001b[38;5;124mcontinueTool\u001b[39m\u001b[38;5;124m'\u001b[39m, \u001b[38;5;124m'\u001b[39m\u001b[38;5;124mResponseId_x\u001b[39m\u001b[38;5;124m'\u001b[39m, \u001b[38;5;124m'\u001b[39m\u001b[38;5;124mResponseId_y\u001b[39m\u001b[38;5;124m'\u001b[39m]]\n\u001b[0;32m      2\u001b[0m TechToolTable\u001b[38;5;241m.\u001b[39mrename(columns\u001b[38;5;241m=\u001b[39m{\n\u001b[0;32m      3\u001b[0m     \u001b[38;5;124m'\u001b[39m\u001b[38;5;124mcontinueTool\u001b[39m\u001b[38;5;124m'\u001b[39m:\u001b[38;5;124m'\u001b[39m\u001b[38;5;124mTechTools\u001b[39m\u001b[38;5;124m'\u001b[39m,\n\u001b[0;32m      4\u001b[0m     \u001b[38;5;124m'\u001b[39m\u001b[38;5;124mResponseId_x\u001b[39m\u001b[38;5;124m'\u001b[39m:\u001b[38;5;124m'\u001b[39m\u001b[38;5;124mcurrentlyUsed\u001b[39m\u001b[38;5;124m'\u001b[39m,\n\u001b[0;32m      5\u001b[0m     \u001b[38;5;124m'\u001b[39m\u001b[38;5;124mResponseId_y\u001b[39m\u001b[38;5;124m'\u001b[39m:\u001b[38;5;124m'\u001b[39m\u001b[38;5;124mdesiredToUse\u001b[39m\u001b[38;5;124m'\u001b[39m\n\u001b[0;32m      6\u001b[0m },inplace \u001b[38;5;241m=\u001b[39m \u001b[38;5;28;01mTrue\u001b[39;00m)\n",
      "File \u001b[1;32m~\\anaconda3\\Lib\\site-packages\\pandas\\core\\frame.py:3767\u001b[0m, in \u001b[0;36mDataFrame.__getitem__\u001b[1;34m(self, key)\u001b[0m\n\u001b[0;32m   3765\u001b[0m     \u001b[38;5;28;01mif\u001b[39;00m is_iterator(key):\n\u001b[0;32m   3766\u001b[0m         key \u001b[38;5;241m=\u001b[39m \u001b[38;5;28mlist\u001b[39m(key)\n\u001b[1;32m-> 3767\u001b[0m     indexer \u001b[38;5;241m=\u001b[39m \u001b[38;5;28mself\u001b[39m\u001b[38;5;241m.\u001b[39mcolumns\u001b[38;5;241m.\u001b[39m_get_indexer_strict(key, \u001b[38;5;124m\"\u001b[39m\u001b[38;5;124mcolumns\u001b[39m\u001b[38;5;124m\"\u001b[39m)[\u001b[38;5;241m1\u001b[39m]\n\u001b[0;32m   3769\u001b[0m \u001b[38;5;66;03m# take() does not accept boolean indexers\u001b[39;00m\n\u001b[0;32m   3770\u001b[0m \u001b[38;5;28;01mif\u001b[39;00m \u001b[38;5;28mgetattr\u001b[39m(indexer, \u001b[38;5;124m\"\u001b[39m\u001b[38;5;124mdtype\u001b[39m\u001b[38;5;124m\"\u001b[39m, \u001b[38;5;28;01mNone\u001b[39;00m) \u001b[38;5;241m==\u001b[39m \u001b[38;5;28mbool\u001b[39m:\n",
      "File \u001b[1;32m~\\anaconda3\\Lib\\site-packages\\pandas\\core\\indexes\\base.py:5877\u001b[0m, in \u001b[0;36mIndex._get_indexer_strict\u001b[1;34m(self, key, axis_name)\u001b[0m\n\u001b[0;32m   5874\u001b[0m \u001b[38;5;28;01melse\u001b[39;00m:\n\u001b[0;32m   5875\u001b[0m     keyarr, indexer, new_indexer \u001b[38;5;241m=\u001b[39m \u001b[38;5;28mself\u001b[39m\u001b[38;5;241m.\u001b[39m_reindex_non_unique(keyarr)\n\u001b[1;32m-> 5877\u001b[0m \u001b[38;5;28mself\u001b[39m\u001b[38;5;241m.\u001b[39m_raise_if_missing(keyarr, indexer, axis_name)\n\u001b[0;32m   5879\u001b[0m keyarr \u001b[38;5;241m=\u001b[39m \u001b[38;5;28mself\u001b[39m\u001b[38;5;241m.\u001b[39mtake(indexer)\n\u001b[0;32m   5880\u001b[0m \u001b[38;5;28;01mif\u001b[39;00m \u001b[38;5;28misinstance\u001b[39m(key, Index):\n\u001b[0;32m   5881\u001b[0m     \u001b[38;5;66;03m# GH 42790 - Preserve name from an Index\u001b[39;00m\n",
      "File \u001b[1;32m~\\anaconda3\\Lib\\site-packages\\pandas\\core\\indexes\\base.py:5938\u001b[0m, in \u001b[0;36mIndex._raise_if_missing\u001b[1;34m(self, key, indexer, axis_name)\u001b[0m\n\u001b[0;32m   5936\u001b[0m     \u001b[38;5;28;01mif\u001b[39;00m use_interval_msg:\n\u001b[0;32m   5937\u001b[0m         key \u001b[38;5;241m=\u001b[39m \u001b[38;5;28mlist\u001b[39m(key)\n\u001b[1;32m-> 5938\u001b[0m     \u001b[38;5;28;01mraise\u001b[39;00m \u001b[38;5;167;01mKeyError\u001b[39;00m(\u001b[38;5;124mf\u001b[39m\u001b[38;5;124m\"\u001b[39m\u001b[38;5;124mNone of [\u001b[39m\u001b[38;5;132;01m{\u001b[39;00mkey\u001b[38;5;132;01m}\u001b[39;00m\u001b[38;5;124m] are in the [\u001b[39m\u001b[38;5;132;01m{\u001b[39;00maxis_name\u001b[38;5;132;01m}\u001b[39;00m\u001b[38;5;124m]\u001b[39m\u001b[38;5;124m\"\u001b[39m)\n\u001b[0;32m   5940\u001b[0m not_found \u001b[38;5;241m=\u001b[39m \u001b[38;5;28mlist\u001b[39m(ensure_index(key)[missing_mask\u001b[38;5;241m.\u001b[39mnonzero()[\u001b[38;5;241m0\u001b[39m]]\u001b[38;5;241m.\u001b[39munique())\n\u001b[0;32m   5941\u001b[0m \u001b[38;5;28;01mraise\u001b[39;00m \u001b[38;5;167;01mKeyError\u001b[39;00m(\u001b[38;5;124mf\u001b[39m\u001b[38;5;124m\"\u001b[39m\u001b[38;5;132;01m{\u001b[39;00mnot_found\u001b[38;5;132;01m}\u001b[39;00m\u001b[38;5;124m not in index\u001b[39m\u001b[38;5;124m\"\u001b[39m)\n",
      "\u001b[1;31mKeyError\u001b[0m: \"None of [Index(['continueTool', 'ResponseId_x', 'ResponseId_y'], dtype='object')] are in the [columns]\""
     ]
    }
   ],
   "source": [
    "TechToolTable = TechToolTable[['continueTool', 'ResponseId_x', 'ResponseId_y']]\n",
    "TechToolTable.rename(columns={\n",
    "    'continueTool':'TechTools',\n",
    "    'ResponseId_x':'currentlyUsed',\n",
    "    'ResponseId_y':'desiredToUse'\n",
    "},inplace = True)\n"
   ]
  },
  {
   "cell_type": "code",
   "execution_count": 41,
   "id": "6e235a45",
   "metadata": {},
   "outputs": [],
   "source": [
    "TechToolTable.to_csv('TechToolTable.csv')"
   ]
  }
 ],
 "metadata": {
  "kernelspec": {
   "display_name": "Python 3 (ipykernel)",
   "language": "python",
   "name": "python3"
  },
  "language_info": {
   "codemirror_mode": {
    "name": "ipython",
    "version": 3
   },
   "file_extension": ".py",
   "mimetype": "text/x-python",
   "name": "python",
   "nbconvert_exporter": "python",
   "pygments_lexer": "ipython3",
   "version": "3.11.4"
  }
 },
 "nbformat": 4,
 "nbformat_minor": 5
}
